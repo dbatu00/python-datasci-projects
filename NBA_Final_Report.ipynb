{
  "nbformat": 4,
  "nbformat_minor": 0,
  "metadata": {
    "colab": {
      "name": "CS210_Group21_Final_Report.ipynb",
      "provenance": [],
      "collapsed_sections": [
        "B2omK2BI4KyB",
        "A3LRo4jzavMQ",
        "sZe4YfUljcf-",
        "gWoY8F-v4ZU0",
        "L8mRHzGc4SH0",
        "8h0G5RNzuABB",
        "aw-zON5bt0pd"
      ],
      "include_colab_link": true
    },
    "kernelspec": {
      "name": "python3",
      "display_name": "Python 3"
    }
  },
  "cells": [
    {
      "cell_type": "markdown",
      "metadata": {
        "id": "view-in-github",
        "colab_type": "text"
      },
      "source": [
        "<a href=\"https://colab.research.google.com/github/dbatu00/python-datasci-projects/blob/main/NBA_Final_Report.ipynb\" target=\"_parent\"><img src=\"https://colab.research.google.com/assets/colab-badge.svg\" alt=\"Open In Colab\"/></a>"
      ]
    },
    {
      "cell_type": "markdown",
      "metadata": {
        "id": "U1cEBB9946EO"
      },
      "source": [
        "<font color=\"red\">IMPORTANT</font>\n",
        "\n",
        "<font color=\"red\">This is just a template for your project reports. You do not have to use the exact structure here. You may add your own sections/subsections. However, you are required to preserve the same report flow.</font>"
      ]
    },
    {
      "cell_type": "markdown",
      "metadata": {
        "id": "tPdlcstH11mU"
      },
      "source": [
        "# [Project Title - 21]\n",
        "\n",
        "Group Members:\n",
        "\n",
        "Ercan Beyen\n",
        "\n",
        "Berkay Çağrı Soylu\n",
        "\n",
        "Mehmet Berke Sezgin \n",
        "\n",
        "Deniz Batu\n",
        "\n",
        "Cem Parlar\n",
        "\n"
      ]
    },
    {
      "cell_type": "markdown",
      "metadata": {
        "id": "B1iB4MSX3-6L"
      },
      "source": [
        "## Introduction\n",
        "\n",
        "<font color=\"blue\">\n",
        "Briefly discuss the background and the rationale of the project.\n",
        "</font>\n",
        "\n",
        "In NBA drafts, better or more wanted players are chosen in top picks. We want to identify whether these top picked players are chosen with the expectation of overall efficiency or are they chosen in better draft positions with the expactation of offensive efficiency and better offensive traits. We intend to discover the relation between these stats and formulate what are the required strengths and valuable attributes for players to be the top picks in drafts. In order to solve our project question we first used linear regression model which gave us a weak correlation between the efficiencies and the draft picks, secondly we used random forest classification model which gave us some unexpected results as we expected the ones who has higher draft picks has higher efficiencies but we observed some exceptions for this model. Lastly we used random forest regression which resulted in the optimal accuracy while showing much stronger correlation between the efficiencies and the draft picks. In addition it proved that standart efficiency has a much stronger correlation with the draft picks.\n"
      ]
    },
    {
      "cell_type": "markdown",
      "metadata": {
        "id": "B2omK2BI4KyB"
      },
      "source": [
        "### Problem Definition \n",
        "\n",
        "<font color=\"blue\">\n",
        "State your problem in technical terms. What is your end goal? How are you going to solve it?\n",
        "</font>\n",
        "\n",
        "We want to clarify which attributes of NBA players are given priority while they are being selected in Drafts. So in order to answer this question we want to compare the top players offensive and standard efficiencies so that we can understand and visualize whether these players were chosen with the expactation of performing high standard efficiency or high offensive efficiency."
      ]
    },
    {
      "cell_type": "markdown",
      "metadata": {
        "id": "ZjWMWVoA4NcV"
      },
      "source": [
        "### Utilized Datasets \n",
        "\n",
        "<font color=\"blue\">\n",
        "Describe the utilized datasets in detail. Provide the data source (links if possible), number of obervations, data types, display the distributions of various variables and plot figures that helps reader understand what you are dealing with.\n",
        "</font>\n",
        "\n",
        "Our utilized datasets provide the spesific data of players such as, their draft pick position and their draft round and other stats which we will need to calculate their standard and offensive efficiency. Utilized datasets also get rid of any unnecessary data which we will not need in order to answer our question about the NBA drafts. In addition to these we also limit our datasets between the years 2010 and 2013 in order to gain meaningful data and insight while also providing more precise information and visaulisation to help the readers understand the data and interpret it much more effortlessly.\n",
        "\n"
      ]
    },
    {
      "cell_type": "markdown",
      "metadata": {
        "id": "6roKtm7TfDQK"
      },
      "source": [
        "Links of Data Sets:\n",
        "\n",
        "* https://www.kaggle.com/jacobbaruch/basketball-players-stats-per-season-49-leagues\n",
        "\n",
        "*\thttps://www.kaggle.com/drgilermo/nba-players-stats"
      ]
    },
    {
      "cell_type": "code",
      "metadata": {
        "id": "eg6zOzmYfYGp",
        "colab": {
          "base_uri": "https://localhost:8080/"
        },
        "outputId": "cb6ac4b3-15fc-4e77-819b-28aba549759c"
      },
      "source": [
        "from google.colab import drive\n",
        "drive.mount(\"./drive\", force_remount=True)\n",
        "\n",
        "# to be used as a prefix for all file I/O\n",
        "path_prefix = \"./drive/My Drive\""
      ],
      "execution_count": null,
      "outputs": [
        {
          "output_type": "stream",
          "text": [
            "Mounted at ./drive\n"
          ],
          "name": "stdout"
        }
      ]
    },
    {
      "cell_type": "code",
      "metadata": {
        "id": "6NYWHiy3v6yZ"
      },
      "source": [
        "import pandas as pd  # an alias for pandas\n",
        "import numpy as np\n",
        "import matplotlib.pyplot as plt\n",
        "from os.path import join\n",
        "\n",
        "# displaying option\n",
        "pd.set_option('max_rows', 10)\n",
        "\n",
        "%matplotlib inline"
      ],
      "execution_count": null,
      "outputs": []
    },
    {
      "cell_type": "code",
      "metadata": {
        "colab": {
          "base_uri": "https://localhost:8080/",
          "height": 221
        },
        "id": "TLvNkQZAwAN8",
        "outputId": "d2079c4b-f581-48f2-ef1b-1690bc58fd1e"
      },
      "source": [
        "# Display the dataFrame\n",
        "file_name = \"players_stats_by_season_full_details.csv\"\n",
        "\n",
        "df = pd.read_csv(join(path_prefix, file_name))\n",
        "df.head()"
      ],
      "execution_count": null,
      "outputs": [
        {
          "output_type": "error",
          "ename": "NameError",
          "evalue": "ignored",
          "traceback": [
            "\u001b[0;31m---------------------------------------------------------------------------\u001b[0m",
            "\u001b[0;31mNameError\u001b[0m                                 Traceback (most recent call last)",
            "\u001b[0;32m<ipython-input-1-a706e17773fc>\u001b[0m in \u001b[0;36m<module>\u001b[0;34m()\u001b[0m\n\u001b[1;32m      2\u001b[0m \u001b[0mfile_name\u001b[0m \u001b[0;34m=\u001b[0m \u001b[0;34m\"players_stats_by_season_full_details.csv\"\u001b[0m\u001b[0;34m\u001b[0m\u001b[0;34m\u001b[0m\u001b[0m\n\u001b[1;32m      3\u001b[0m \u001b[0;34m\u001b[0m\u001b[0m\n\u001b[0;32m----> 4\u001b[0;31m \u001b[0mdf\u001b[0m \u001b[0;34m=\u001b[0m \u001b[0mpd\u001b[0m\u001b[0;34m.\u001b[0m\u001b[0mread_csv\u001b[0m\u001b[0;34m(\u001b[0m\u001b[0mjoin\u001b[0m\u001b[0;34m(\u001b[0m\u001b[0mpath_prefix\u001b[0m\u001b[0;34m,\u001b[0m \u001b[0mfile_name\u001b[0m\u001b[0;34m)\u001b[0m\u001b[0;34m)\u001b[0m\u001b[0;34m\u001b[0m\u001b[0;34m\u001b[0m\u001b[0m\n\u001b[0m\u001b[1;32m      5\u001b[0m \u001b[0mdf\u001b[0m\u001b[0;34m.\u001b[0m\u001b[0mhead\u001b[0m\u001b[0;34m(\u001b[0m\u001b[0;34m)\u001b[0m\u001b[0;34m\u001b[0m\u001b[0;34m\u001b[0m\u001b[0m\n",
            "\u001b[0;31mNameError\u001b[0m: name 'pd' is not defined"
          ]
        }
      ]
    },
    {
      "cell_type": "markdown",
      "metadata": {
        "id": "PyjW9zAHUgWf"
      },
      "source": [
        "## Raw data is displayed.\n",
        "\n",
        "\n"
      ]
    },
    {
      "cell_type": "code",
      "metadata": {
        "colab": {
          "base_uri": "https://localhost:8080/",
          "height": 326
        },
        "id": "PfYRidbJwDf4",
        "outputId": "a1f98451-1601-40c7-db4a-e11fac7f856d"
      },
      "source": [
        "\"\"\"\n",
        "Explanation: Column name which is named 3PM is transformed to 3:00 PM by software system of computer automatically. \n",
        "Since 3:00 PM column name is irrelevant, the name of the column is changed as 3_PM for preventing naming problems\n",
        "\"\"\"\n",
        "\n",
        "def transfer_3PM(row):\n",
        "  current_data = row[\"3:00 PM\"]\n",
        "  return current_data\n",
        "\n",
        "df[\"3_PM\"] = df.apply(transfer_3PM, axis = 1)\n",
        "\n",
        "df.drop(\"3:00 PM\", axis = 1, inplace = True)\n",
        "df.head()"
      ],
      "execution_count": null,
      "outputs": [
        {
          "output_type": "execute_result",
          "data": {
            "text/html": [
              "<div>\n",
              "<style scoped>\n",
              "    .dataframe tbody tr th:only-of-type {\n",
              "        vertical-align: middle;\n",
              "    }\n",
              "\n",
              "    .dataframe tbody tr th {\n",
              "        vertical-align: top;\n",
              "    }\n",
              "\n",
              "    .dataframe thead th {\n",
              "        text-align: right;\n",
              "    }\n",
              "</style>\n",
              "<table border=\"1\" class=\"dataframe\">\n",
              "  <thead>\n",
              "    <tr style=\"text-align: right;\">\n",
              "      <th></th>\n",
              "      <th>League</th>\n",
              "      <th>Season</th>\n",
              "      <th>Stage</th>\n",
              "      <th>Player</th>\n",
              "      <th>Team</th>\n",
              "      <th>GP</th>\n",
              "      <th>MIN</th>\n",
              "      <th>FGM</th>\n",
              "      <th>FGA</th>\n",
              "      <th>3PA</th>\n",
              "      <th>FTM</th>\n",
              "      <th>FTA</th>\n",
              "      <th>TOV</th>\n",
              "      <th>PF</th>\n",
              "      <th>ORB</th>\n",
              "      <th>DRB</th>\n",
              "      <th>REB</th>\n",
              "      <th>AST</th>\n",
              "      <th>STL</th>\n",
              "      <th>BLK</th>\n",
              "      <th>PTS</th>\n",
              "      <th>birth_year</th>\n",
              "      <th>birth_month</th>\n",
              "      <th>birth_date</th>\n",
              "      <th>height</th>\n",
              "      <th>height_cm</th>\n",
              "      <th>weight</th>\n",
              "      <th>weight_kg</th>\n",
              "      <th>nationality</th>\n",
              "      <th>high_school</th>\n",
              "      <th>draft_round</th>\n",
              "      <th>draft_pick</th>\n",
              "      <th>draft_team</th>\n",
              "      <th>3_PM</th>\n",
              "    </tr>\n",
              "  </thead>\n",
              "  <tbody>\n",
              "    <tr>\n",
              "      <th>0</th>\n",
              "      <td>NBA</td>\n",
              "      <td>1999 - 2000</td>\n",
              "      <td>Regular_Season</td>\n",
              "      <td>Shaquille O'Neal</td>\n",
              "      <td>LAL</td>\n",
              "      <td>79</td>\n",
              "      <td>3163.0</td>\n",
              "      <td>956</td>\n",
              "      <td>1665</td>\n",
              "      <td>1</td>\n",
              "      <td>432</td>\n",
              "      <td>824</td>\n",
              "      <td>223</td>\n",
              "      <td>255</td>\n",
              "      <td>336</td>\n",
              "      <td>742</td>\n",
              "      <td>1078</td>\n",
              "      <td>299</td>\n",
              "      <td>36</td>\n",
              "      <td>239</td>\n",
              "      <td>2344</td>\n",
              "      <td>1972.0</td>\n",
              "      <td>Mar</td>\n",
              "      <td>Mar 6, 1972</td>\n",
              "      <td>7-1</td>\n",
              "      <td>216.0</td>\n",
              "      <td>325.0</td>\n",
              "      <td>147.0</td>\n",
              "      <td>United States</td>\n",
              "      <td>Robert G. Cole High School</td>\n",
              "      <td>1.0</td>\n",
              "      <td>1.0</td>\n",
              "      <td>Orlando Magic</td>\n",
              "      <td>0</td>\n",
              "    </tr>\n",
              "    <tr>\n",
              "      <th>1</th>\n",
              "      <td>NBA</td>\n",
              "      <td>1999 - 2000</td>\n",
              "      <td>Regular_Season</td>\n",
              "      <td>Vince Carter</td>\n",
              "      <td>TOR</td>\n",
              "      <td>82</td>\n",
              "      <td>3126.0</td>\n",
              "      <td>788</td>\n",
              "      <td>1696</td>\n",
              "      <td>236</td>\n",
              "      <td>436</td>\n",
              "      <td>551</td>\n",
              "      <td>178</td>\n",
              "      <td>263</td>\n",
              "      <td>150</td>\n",
              "      <td>326</td>\n",
              "      <td>476</td>\n",
              "      <td>322</td>\n",
              "      <td>110</td>\n",
              "      <td>92</td>\n",
              "      <td>2107</td>\n",
              "      <td>1977.0</td>\n",
              "      <td>Jan</td>\n",
              "      <td>Jan 26, 1977</td>\n",
              "      <td>6-6</td>\n",
              "      <td>198.0</td>\n",
              "      <td>220.0</td>\n",
              "      <td>100.0</td>\n",
              "      <td>United States</td>\n",
              "      <td>Mainland High School</td>\n",
              "      <td>1.0</td>\n",
              "      <td>5.0</td>\n",
              "      <td>Golden State Warriors</td>\n",
              "      <td>95</td>\n",
              "    </tr>\n",
              "    <tr>\n",
              "      <th>2</th>\n",
              "      <td>NBA</td>\n",
              "      <td>1999 - 2000</td>\n",
              "      <td>Regular_Season</td>\n",
              "      <td>Karl Malone</td>\n",
              "      <td>UTA</td>\n",
              "      <td>82</td>\n",
              "      <td>2947.0</td>\n",
              "      <td>752</td>\n",
              "      <td>1476</td>\n",
              "      <td>8</td>\n",
              "      <td>589</td>\n",
              "      <td>739</td>\n",
              "      <td>231</td>\n",
              "      <td>229</td>\n",
              "      <td>169</td>\n",
              "      <td>610</td>\n",
              "      <td>779</td>\n",
              "      <td>304</td>\n",
              "      <td>79</td>\n",
              "      <td>71</td>\n",
              "      <td>2095</td>\n",
              "      <td>1963.0</td>\n",
              "      <td>Jul</td>\n",
              "      <td>Jul 24, 1963</td>\n",
              "      <td>6-9</td>\n",
              "      <td>206.0</td>\n",
              "      <td>265.0</td>\n",
              "      <td>120.0</td>\n",
              "      <td>United States</td>\n",
              "      <td>Summerfield High School</td>\n",
              "      <td>1.0</td>\n",
              "      <td>13.0</td>\n",
              "      <td>Utah Jazz</td>\n",
              "      <td>2</td>\n",
              "    </tr>\n",
              "    <tr>\n",
              "      <th>3</th>\n",
              "      <td>NBA</td>\n",
              "      <td>1999 - 2000</td>\n",
              "      <td>Regular_Season</td>\n",
              "      <td>Allen Iverson</td>\n",
              "      <td>PHI</td>\n",
              "      <td>70</td>\n",
              "      <td>2853.0</td>\n",
              "      <td>729</td>\n",
              "      <td>1733</td>\n",
              "      <td>261</td>\n",
              "      <td>442</td>\n",
              "      <td>620</td>\n",
              "      <td>230</td>\n",
              "      <td>162</td>\n",
              "      <td>71</td>\n",
              "      <td>196</td>\n",
              "      <td>267</td>\n",
              "      <td>328</td>\n",
              "      <td>144</td>\n",
              "      <td>5</td>\n",
              "      <td>1989</td>\n",
              "      <td>1975.0</td>\n",
              "      <td>Jun</td>\n",
              "      <td>Jun 7, 1975</td>\n",
              "      <td>6-0</td>\n",
              "      <td>183.0</td>\n",
              "      <td>165.0</td>\n",
              "      <td>75.0</td>\n",
              "      <td>United States</td>\n",
              "      <td>Bethel High School</td>\n",
              "      <td>1.0</td>\n",
              "      <td>1.0</td>\n",
              "      <td>Philadelphia Sixers</td>\n",
              "      <td>89</td>\n",
              "    </tr>\n",
              "    <tr>\n",
              "      <th>4</th>\n",
              "      <td>NBA</td>\n",
              "      <td>1999 - 2000</td>\n",
              "      <td>Regular_Season</td>\n",
              "      <td>Gary Payton</td>\n",
              "      <td>SEA</td>\n",
              "      <td>82</td>\n",
              "      <td>3425.0</td>\n",
              "      <td>747</td>\n",
              "      <td>1666</td>\n",
              "      <td>520</td>\n",
              "      <td>311</td>\n",
              "      <td>423</td>\n",
              "      <td>224</td>\n",
              "      <td>178</td>\n",
              "      <td>100</td>\n",
              "      <td>429</td>\n",
              "      <td>529</td>\n",
              "      <td>732</td>\n",
              "      <td>153</td>\n",
              "      <td>18</td>\n",
              "      <td>1982</td>\n",
              "      <td>1968.0</td>\n",
              "      <td>Jul</td>\n",
              "      <td>Jul 23, 1968</td>\n",
              "      <td>6-4</td>\n",
              "      <td>193.0</td>\n",
              "      <td>180.0</td>\n",
              "      <td>82.0</td>\n",
              "      <td>United States</td>\n",
              "      <td>Skyline High School</td>\n",
              "      <td>1.0</td>\n",
              "      <td>2.0</td>\n",
              "      <td>Seattle SuperSonics</td>\n",
              "      <td>177</td>\n",
              "    </tr>\n",
              "  </tbody>\n",
              "</table>\n",
              "</div>"
            ],
            "text/plain": [
              "  League       Season           Stage  ... draft_pick             draft_team  3_PM\n",
              "0    NBA  1999 - 2000  Regular_Season  ...        1.0          Orlando Magic     0\n",
              "1    NBA  1999 - 2000  Regular_Season  ...        5.0  Golden State Warriors    95\n",
              "2    NBA  1999 - 2000  Regular_Season  ...       13.0              Utah Jazz     2\n",
              "3    NBA  1999 - 2000  Regular_Season  ...        1.0    Philadelphia Sixers    89\n",
              "4    NBA  1999 - 2000  Regular_Season  ...        2.0    Seattle SuperSonics   177\n",
              "\n",
              "[5 rows x 34 columns]"
            ]
          },
          "metadata": {
            "tags": []
          },
          "execution_count": 4
        }
      ]
    },
    {
      "cell_type": "markdown",
      "metadata": {
        "id": "nhj1HohfWyWZ"
      },
      "source": [
        "### Column name which is named 3PM is transformed to 3:00 PM by software system of computer automatically. Since 3:00 PM column name is irrelevant, the name of the column is changed as 3_PM for preventing naming problem."
      ]
    },
    {
      "cell_type": "code",
      "metadata": {
        "colab": {
          "base_uri": "https://localhost:8080/",
          "height": 376
        },
        "id": "rVmeMXzMwMFw",
        "outputId": "46196b94-deb2-41d9-de05-21c9df4d7c28"
      },
      "source": [
        "\"\"\"\n",
        "Explanation: Columns which are related are extracted\n",
        "\"\"\"\n",
        "\n",
        "def IsValid2011(row): # extracts related rows\n",
        "  season = row[\"Season\"]\n",
        "  league = row[\"League\"]\n",
        "  stage = row[\"Stage\"]\n",
        "\n",
        "  #if (league == \"NBA\") and ((season == \"2010 - 2011\") or (season == \"2011 - 2012\") or (season == \"2012 - 2013\")):\n",
        "  if league == \"NBA\" and season == \"2010 - 2011\" and stage == \"Regular_Season\":\n",
        "    return \"valid\"\n",
        "  return None\n",
        "\n",
        "def IsValid2012(row): # extracts related rows\n",
        "  season = row[\"Season\"]\n",
        "  league = row[\"League\"]\n",
        "  stage = row[\"Stage\"]\n",
        "\n",
        "  #if (league == \"NBA\") and ((season == \"2010 - 2011\") or (season == \"2011 - 2012\") or (season == \"2012 - 2013\")):\n",
        "  if league == \"NBA\" and season == \"2011 - 2012\" and stage == \"Regular_Season\":\n",
        "    return \"valid\"\n",
        "  return None  \n",
        "\n",
        "def IsValid2013(row): # extracts related rows\n",
        "  season = row[\"Season\"]\n",
        "  league = row[\"League\"]\n",
        "  stage = row[\"Stage\"]\n",
        "\n",
        "  #if (league == \"NBA\") and ((season == \"2010 - 2011\") or (season == \"2011 - 2012\") or (season == \"2012 - 2013\")):\n",
        "  if league == \"NBA\" and season == \"2012 - 2013\" and stage == \"Regular_Season\":\n",
        "    return \"valid\"\n",
        "  return None\n",
        "\n",
        "def IsInTen(row): #Checks if the player is in the draft picks 1 or 2.\n",
        "  draft_round = row[\"draft_round\"]\n",
        "  draft_pick = row[\"draft_pick\"]\n",
        "\n",
        "  if draft_round == 1 and draft_pick <= 2:\n",
        "    return \"inTen\"\n",
        "  \n",
        "  return None\n",
        "\n",
        "#df\n",
        "df_2011 = df.copy()\n",
        "df_2012 = df.copy()\n",
        "df_2013 = df.copy()\n",
        "\n",
        "# 2011\n",
        "df_2011[\"valid\"] = df_2011.apply(IsValid2011, axis = 1)\n",
        "df_2011.dropna(inplace = True)\n",
        "\n",
        "#df # Debuging\n",
        "df_2011.drop(\"valid\", axis = 1, inplace = True)\n",
        "#df # Debuging\n",
        "\n",
        "# NBA Standard Efficiency: (PTS + REB + AST + STL + BLK − Missed FG − Missed FT - TO) / GP\n",
        "# NBA Individual Offensive Efficiency = PGEN / NPT\n",
        "df_2011.drop([\"Stage\", \"MIN\",\t\"PF\",\t\"DRB\",\t\"birth_year\",\t\"birth_month\",\t\"birth_date\",\t\"height\",\t\"height_cm\",\t\"weight\",\t\"weight_kg\",\t\"nationality\", \"high_school\"], axis = 1, inplace = True)\n",
        "\n",
        "df_2011[\"inTen\"] = df_2011.apply(IsInTen, axis = 1)\n",
        "df_2011.dropna(inplace = True)\n",
        "df_2011.drop(\"inTen\", axis = 1, inplace = True)\n",
        "#df.head(10)\n",
        "\n",
        "# 2012\n",
        "df_2012[\"valid\"] = df_2012.apply(IsValid2012, axis = 1)\n",
        "df_2012.dropna(inplace = True)\n",
        "\n",
        "#df # Debuging\n",
        "df_2012.drop(\"valid\", axis = 1, inplace = True)\n",
        "#df # Debuging\n",
        "\n",
        "# NBA Standard Efficiency: (PTS + REB + AST + STL + BLK − Missed FG − Missed FT - TO) / GP\n",
        "# NBA Individual Offensive Efficiency = PGEN / NPT\n",
        "df_2012.drop([\"Stage\", \"MIN\",\t\"PF\",\t\"DRB\",\t\"birth_year\",\t\"birth_month\",\t\"birth_date\",\t\"height\",\t\"height_cm\",\t\"weight\",\t\"weight_kg\",\t\"nationality\", \"high_school\"], axis = 1, inplace = True)\n",
        "\n",
        "df_2012[\"inTen\"] = df_2012.apply(IsInTen, axis = 1)\n",
        "df_2012.dropna(inplace = True)\n",
        "df_2012.drop(\"inTen\", axis = 1, inplace = True)\n",
        "\n",
        "\n",
        "# 2013\n",
        "df_2013[\"valid\"] = df_2013.apply(IsValid2013, axis = 1)\n",
        "df_2013.dropna(inplace = True)\n",
        "\n",
        "#df # Debuging\n",
        "df_2013.drop(\"valid\", axis = 1, inplace = True)\n",
        "#df # Debuging\n",
        "\n",
        "# NBA Standard Efficiency: (PTS + REB + AST + STL + BLK − Missed FG − Missed FT - TO) / GP\n",
        "# NBA Individual Offensive Efficiency = PGEN / NPT\n",
        "df_2013.drop([\"Stage\", \"MIN\",\t\"PF\",\t\"DRB\",\t\"birth_year\",\t\"birth_month\",\t\"birth_date\",\t\"height\",\t\"height_cm\",\t\"weight\",\t\"weight_kg\",\t\"nationality\", \"high_school\"], axis = 1, inplace = True)\n",
        "\n",
        "df_2013[\"inTen\"] = df_2013.apply(IsInTen, axis = 1)\n",
        "df_2013.dropna(inplace = True)\n",
        "df_2013.drop(\"inTen\", axis = 1, inplace = True)\n",
        "\n",
        "unique_players_array = df.Player.unique()\n",
        "print(\"number of unique players:\", len(unique_players_array))\n",
        "#print(unique_players_array)\n",
        "#print(df_2011.head(10))\n",
        "\n",
        "df_2011.head(10)"
      ],
      "execution_count": null,
      "outputs": [
        {
          "output_type": "stream",
          "text": [
            "number of unique players: 14582\n"
          ],
          "name": "stdout"
        },
        {
          "output_type": "execute_result",
          "data": {
            "text/html": [
              "<div>\n",
              "<style scoped>\n",
              "    .dataframe tbody tr th:only-of-type {\n",
              "        vertical-align: middle;\n",
              "    }\n",
              "\n",
              "    .dataframe tbody tr th {\n",
              "        vertical-align: top;\n",
              "    }\n",
              "\n",
              "    .dataframe thead th {\n",
              "        text-align: right;\n",
              "    }\n",
              "</style>\n",
              "<table border=\"1\" class=\"dataframe\">\n",
              "  <thead>\n",
              "    <tr style=\"text-align: right;\">\n",
              "      <th></th>\n",
              "      <th>League</th>\n",
              "      <th>Season</th>\n",
              "      <th>Player</th>\n",
              "      <th>Team</th>\n",
              "      <th>GP</th>\n",
              "      <th>FGM</th>\n",
              "      <th>FGA</th>\n",
              "      <th>3PA</th>\n",
              "      <th>FTM</th>\n",
              "      <th>FTA</th>\n",
              "      <th>TOV</th>\n",
              "      <th>ORB</th>\n",
              "      <th>REB</th>\n",
              "      <th>AST</th>\n",
              "      <th>STL</th>\n",
              "      <th>BLK</th>\n",
              "      <th>PTS</th>\n",
              "      <th>draft_round</th>\n",
              "      <th>draft_pick</th>\n",
              "      <th>draft_team</th>\n",
              "      <th>3_PM</th>\n",
              "    </tr>\n",
              "  </thead>\n",
              "  <tbody>\n",
              "    <tr>\n",
              "      <th>11849</th>\n",
              "      <td>NBA</td>\n",
              "      <td>2010 - 2011</td>\n",
              "      <td>Kevin Durant</td>\n",
              "      <td>OKC</td>\n",
              "      <td>78</td>\n",
              "      <td>711</td>\n",
              "      <td>1538</td>\n",
              "      <td>414</td>\n",
              "      <td>594</td>\n",
              "      <td>675</td>\n",
              "      <td>218</td>\n",
              "      <td>57</td>\n",
              "      <td>533</td>\n",
              "      <td>214</td>\n",
              "      <td>88</td>\n",
              "      <td>76</td>\n",
              "      <td>2161</td>\n",
              "      <td>1.0</td>\n",
              "      <td>2.0</td>\n",
              "      <td>Seattle SuperSonics</td>\n",
              "      <td>145</td>\n",
              "    </tr>\n",
              "    <tr>\n",
              "      <th>11850</th>\n",
              "      <td>NBA</td>\n",
              "      <td>2010 - 2011</td>\n",
              "      <td>LeBron James</td>\n",
              "      <td>MIA</td>\n",
              "      <td>79</td>\n",
              "      <td>758</td>\n",
              "      <td>1484</td>\n",
              "      <td>279</td>\n",
              "      <td>503</td>\n",
              "      <td>663</td>\n",
              "      <td>284</td>\n",
              "      <td>80</td>\n",
              "      <td>590</td>\n",
              "      <td>554</td>\n",
              "      <td>124</td>\n",
              "      <td>50</td>\n",
              "      <td>2111</td>\n",
              "      <td>1.0</td>\n",
              "      <td>1.0</td>\n",
              "      <td>Cleveland Cavaliers</td>\n",
              "      <td>92</td>\n",
              "    </tr>\n",
              "    <tr>\n",
              "      <th>11852</th>\n",
              "      <td>NBA</td>\n",
              "      <td>2010 - 2011</td>\n",
              "      <td>Derrick Rose</td>\n",
              "      <td>CHI</td>\n",
              "      <td>81</td>\n",
              "      <td>711</td>\n",
              "      <td>1597</td>\n",
              "      <td>385</td>\n",
              "      <td>476</td>\n",
              "      <td>555</td>\n",
              "      <td>278</td>\n",
              "      <td>81</td>\n",
              "      <td>330</td>\n",
              "      <td>623</td>\n",
              "      <td>85</td>\n",
              "      <td>51</td>\n",
              "      <td>2026</td>\n",
              "      <td>1.0</td>\n",
              "      <td>1.0</td>\n",
              "      <td>Chicago Bulls</td>\n",
              "      <td>128</td>\n",
              "    </tr>\n",
              "    <tr>\n",
              "      <th>11858</th>\n",
              "      <td>NBA</td>\n",
              "      <td>2010 - 2011</td>\n",
              "      <td>Blake Griffin</td>\n",
              "      <td>LAC</td>\n",
              "      <td>82</td>\n",
              "      <td>696</td>\n",
              "      <td>1376</td>\n",
              "      <td>24</td>\n",
              "      <td>446</td>\n",
              "      <td>695</td>\n",
              "      <td>223</td>\n",
              "      <td>270</td>\n",
              "      <td>989</td>\n",
              "      <td>312</td>\n",
              "      <td>63</td>\n",
              "      <td>45</td>\n",
              "      <td>1845</td>\n",
              "      <td>1.0</td>\n",
              "      <td>1.0</td>\n",
              "      <td>Los Angeles Clippers</td>\n",
              "      <td>7</td>\n",
              "    </tr>\n",
              "    <tr>\n",
              "      <th>11860</th>\n",
              "      <td>NBA</td>\n",
              "      <td>2010 - 2011</td>\n",
              "      <td>Dwight Howard</td>\n",
              "      <td>ORL</td>\n",
              "      <td>78</td>\n",
              "      <td>619</td>\n",
              "      <td>1044</td>\n",
              "      <td>7</td>\n",
              "      <td>546</td>\n",
              "      <td>916</td>\n",
              "      <td>279</td>\n",
              "      <td>309</td>\n",
              "      <td>1098</td>\n",
              "      <td>107</td>\n",
              "      <td>107</td>\n",
              "      <td>186</td>\n",
              "      <td>1784</td>\n",
              "      <td>1.0</td>\n",
              "      <td>1.0</td>\n",
              "      <td>Orlando Magic</td>\n",
              "      <td>0</td>\n",
              "    </tr>\n",
              "    <tr>\n",
              "      <th>11861</th>\n",
              "      <td>NBA</td>\n",
              "      <td>2010 - 2011</td>\n",
              "      <td>LaMarcus Aldridge</td>\n",
              "      <td>POR</td>\n",
              "      <td>81</td>\n",
              "      <td>707</td>\n",
              "      <td>1415</td>\n",
              "      <td>23</td>\n",
              "      <td>351</td>\n",
              "      <td>444</td>\n",
              "      <td>153</td>\n",
              "      <td>278</td>\n",
              "      <td>709</td>\n",
              "      <td>170</td>\n",
              "      <td>82</td>\n",
              "      <td>94</td>\n",
              "      <td>1769</td>\n",
              "      <td>1.0</td>\n",
              "      <td>2.0</td>\n",
              "      <td>Chicago Bulls</td>\n",
              "      <td>4</td>\n",
              "    </tr>\n",
              "    <tr>\n",
              "      <th>11874</th>\n",
              "      <td>NBA</td>\n",
              "      <td>2010 - 2011</td>\n",
              "      <td>Michael Beasley</td>\n",
              "      <td>MIN</td>\n",
              "      <td>73</td>\n",
              "      <td>561</td>\n",
              "      <td>1246</td>\n",
              "      <td>164</td>\n",
              "      <td>219</td>\n",
              "      <td>291</td>\n",
              "      <td>195</td>\n",
              "      <td>118</td>\n",
              "      <td>409</td>\n",
              "      <td>158</td>\n",
              "      <td>54</td>\n",
              "      <td>52</td>\n",
              "      <td>1401</td>\n",
              "      <td>1.0</td>\n",
              "      <td>2.0</td>\n",
              "      <td>Miami Heat</td>\n",
              "      <td>60</td>\n",
              "    </tr>\n",
              "    <tr>\n",
              "      <th>11889</th>\n",
              "      <td>NBA</td>\n",
              "      <td>2010 - 2011</td>\n",
              "      <td>Elton Brand</td>\n",
              "      <td>PHI</td>\n",
              "      <td>81</td>\n",
              "      <td>502</td>\n",
              "      <td>981</td>\n",
              "      <td>1</td>\n",
              "      <td>213</td>\n",
              "      <td>273</td>\n",
              "      <td>101</td>\n",
              "      <td>237</td>\n",
              "      <td>676</td>\n",
              "      <td>120</td>\n",
              "      <td>92</td>\n",
              "      <td>106</td>\n",
              "      <td>1217</td>\n",
              "      <td>1.0</td>\n",
              "      <td>1.0</td>\n",
              "      <td>Chicago Bulls</td>\n",
              "      <td>0</td>\n",
              "    </tr>\n",
              "    <tr>\n",
              "      <th>11919</th>\n",
              "      <td>NBA</td>\n",
              "      <td>2010 - 2011</td>\n",
              "      <td>Tim Duncan</td>\n",
              "      <td>SAS</td>\n",
              "      <td>76</td>\n",
              "      <td>419</td>\n",
              "      <td>838</td>\n",
              "      <td>4</td>\n",
              "      <td>184</td>\n",
              "      <td>257</td>\n",
              "      <td>122</td>\n",
              "      <td>169</td>\n",
              "      <td>678</td>\n",
              "      <td>203</td>\n",
              "      <td>50</td>\n",
              "      <td>146</td>\n",
              "      <td>1022</td>\n",
              "      <td>1.0</td>\n",
              "      <td>1.0</td>\n",
              "      <td>San Antonio Spurs</td>\n",
              "      <td>0</td>\n",
              "    </tr>\n",
              "    <tr>\n",
              "      <th>11963</th>\n",
              "      <td>NBA</td>\n",
              "      <td>2010 - 2011</td>\n",
              "      <td>Tyson Chandler</td>\n",
              "      <td>DAL</td>\n",
              "      <td>74</td>\n",
              "      <td>266</td>\n",
              "      <td>407</td>\n",
              "      <td>0</td>\n",
              "      <td>216</td>\n",
              "      <td>295</td>\n",
              "      <td>88</td>\n",
              "      <td>206</td>\n",
              "      <td>692</td>\n",
              "      <td>32</td>\n",
              "      <td>36</td>\n",
              "      <td>80</td>\n",
              "      <td>748</td>\n",
              "      <td>1.0</td>\n",
              "      <td>2.0</td>\n",
              "      <td>Los Angeles Clippers</td>\n",
              "      <td>0</td>\n",
              "    </tr>\n",
              "  </tbody>\n",
              "</table>\n",
              "</div>"
            ],
            "text/plain": [
              "      League       Season  ...            draft_team 3_PM\n",
              "11849    NBA  2010 - 2011  ...   Seattle SuperSonics  145\n",
              "11850    NBA  2010 - 2011  ...   Cleveland Cavaliers   92\n",
              "11852    NBA  2010 - 2011  ...         Chicago Bulls  128\n",
              "11858    NBA  2010 - 2011  ...  Los Angeles Clippers    7\n",
              "11860    NBA  2010 - 2011  ...         Orlando Magic    0\n",
              "11861    NBA  2010 - 2011  ...         Chicago Bulls    4\n",
              "11874    NBA  2010 - 2011  ...            Miami Heat   60\n",
              "11889    NBA  2010 - 2011  ...         Chicago Bulls    0\n",
              "11919    NBA  2010 - 2011  ...     San Antonio Spurs    0\n",
              "11963    NBA  2010 - 2011  ...  Los Angeles Clippers    0\n",
              "\n",
              "[10 rows x 21 columns]"
            ]
          },
          "metadata": {
            "tags": []
          },
          "execution_count": 5
        }
      ]
    },
    {
      "cell_type": "markdown",
      "metadata": {
        "id": "3G5i79pBXjl9"
      },
      "source": [
        "### New data frames are created season by season for 2010-2011, 2011-2012 and 2012-2013. Unnecessary features are extracted from the data frame.\n",
        "\n",
        "#### For example: The filtered data for 2010-2011 is given to represent the data frames as an example. \n",
        "\n",
        "**GP:** Games played, **FGM**: Field Goals Made , **FGA**: Field Goals Attempted , **3PA**: 3 points Attempted , **FTM**: Free Throw Made , **FTA**: Free Throw Attempted , **TOV**: Turnover , **ORB**: Offensive Rebound , **REB**: Rebound , **AST**: Assist , **STL**: Steal , **BLK**: Blocks , **PTS**: Total points made , **draft_round**: The number of round the player is picked , **draft_pick**: The number of order which player is chosen , **3_PM**: 3 points made"
      ]
    },
    {
      "cell_type": "code",
      "metadata": {
        "colab": {
          "base_uri": "https://localhost:8080/",
          "height": 851
        },
        "id": "Udcw6GKM4uAz",
        "outputId": "2fd474c6-dfb7-45b0-b899-dec7febbf24f"
      },
      "source": [
        "'''\n",
        "Visualisation of utilized data.\n",
        "'''\n",
        "\n",
        "my_range= range(1,len(df_2011.index)+1)\n",
        "ordered_df=df_2011.sort_values(by=\"draft_pick\")\n",
        "plt.hlines(y=my_range, xmin=0, xmax=ordered_df['draft_pick'], color='skyblue')\n",
        "plt.plot(ordered_df['draft_pick'], my_range, \"o\")\n",
        " \n",
        "# Add titles and axis names\n",
        "plt.yticks(my_range, ordered_df['Player'])\n",
        "plt.title(\"Draft picks of players - 2011\")\n",
        "plt.xlabel('Draft Pick')\n",
        "plt.ylabel('Players');\n",
        "\n",
        "plt.show()\n",
        "#2012\n",
        "my_range= range(1,len(df_2012.index)+1)\n",
        "ordered_df=df_2012.sort_values(by=\"draft_pick\")\n",
        "plt.hlines(y=my_range, xmin=0, xmax=ordered_df['draft_pick'], color='skyblue')\n",
        "plt.plot(ordered_df['draft_pick'], my_range, \"o\")\n",
        " \n",
        "# Add titles and axis names\n",
        "plt.yticks(my_range, ordered_df['Player'])\n",
        "plt.title(\"Draft picks of players - 2012\")\n",
        "plt.xlabel('Draft Pick')\n",
        "plt.ylabel('Players');\n",
        "\n",
        "plt.show()\n",
        "\n",
        "#2013\n",
        "my_range= range(1,len(df_2013.index)+1)\n",
        "ordered_df=df_2013.sort_values(by=\"draft_pick\")\n",
        "plt.hlines(y=my_range, xmin=0, xmax=ordered_df['draft_pick'], color='skyblue')\n",
        "plt.plot(ordered_df['draft_pick'], my_range, \"o\")\n",
        " \n",
        "# Add titles and axis names\n",
        "plt.yticks(my_range, ordered_df['Player'])\n",
        "plt.title(\"Draft picks of players - 2013\")\n",
        "plt.xlabel('Draft Pick')\n",
        "plt.ylabel('Players');\n",
        "\n",
        "plt.show()"
      ],
      "execution_count": null,
      "outputs": [
        {
          "output_type": "display_data",
          "data": {
            "image/png": "[encoded data removed]",
            "text/plain": [
              "<Figure size 432x288 with 1 Axes>"
            ]
          },
          "metadata": {
            "tags": [],
            "needs_background": "light"
          }
        },
        {
          "output_type": "display_data",
          "data": {
            "image/png": "[encoded data removed]",
            "text/plain": [
              "<Figure size 432x288 with 1 Axes>"
            ]
          },
          "metadata": {
            "tags": [],
            "needs_background": "light"
          }
        },
        {
          "output_type": "display_data",
          "data": {
            "image/png": "[encoded data removed]",
            "text/plain": [
              "<Figure size 432x288 with 1 Axes>"
            ]
          },
          "metadata": {
            "tags": [],
            "needs_background": "light"
          }
        }
      ]
    },
    {
      "cell_type": "markdown",
      "metadata": {
        "id": "A3LRo4jzavMQ"
      },
      "source": [
        "## Visualisation of the players which whose draft round is 1 and draft pick is 1 or 2 for the readers to understand."
      ]
    },
    {
      "cell_type": "markdown",
      "metadata": {
        "id": "ict00io34o_x"
      },
      "source": [
        "## Data Exploration\n",
        "\n",
        "<font color=\"blue\">\n",
        "Explore the relationship between different variables across datasets. Perform hypothesis tests if necessary. Comment on your resulting figures and findings.\n",
        "\n",
        "This section corresponds to the work you have done in the progress report.\n",
        "</font>\n",
        "\n",
        "In this section, we show what is the average standard and offensive efficiency by calculating them with the usage of our data in our utilised data:\n",
        "\n",
        "***NBA Standard Efficiency Formula***: (PTS + REB + AST + STL + BLK − Missed FG − Missed FT - TOV) / GP\n",
        "\n",
        "***Standard efficiency*** is the formula which calculates how beneficial a player for the team is in general terms.\n",
        "\n",
        "***Offensive Efficiency Formula***: (PTS + AST) / Possession for player.\n",
        "\n",
        "*Posession for player = FGA - ORB + TOV + (0.4 * FTA)\n",
        "\n",
        "***Offensive efficiency*** is the formula which calculates how beneficial a player for the team is in offensive terms.\n",
        "\n",
        "After calculating these values, we visualise them with graphs and show each variables difference for every player.\n",
        "\n",
        "To indicate the importance of these stats we select the top picked players who appear in all the seasons between 2010-2013 and display their average standard and offensive efficiency throughout these seasons.\n"
      ]
    },
    {
      "cell_type": "code",
      "metadata": {
        "id": "dij7tLW8fWV7",
        "colab": {
          "base_uri": "https://localhost:8080/",
          "height": 565
        },
        "outputId": "fdaf7dfc-171a-482a-8749-73aeb9cb62d2"
      },
      "source": [
        "\"\"\"\n",
        "Calculating NBA Standard Efficiency Formula and Offensive Efficiency Formula and displaying for 2011\n",
        "\"\"\"\n",
        "\n",
        "#NBA Standard Efficiency Formula: (PTS + REB + AST + STL + BLK − Missed FG − Missed FT - TO) / GP\n",
        "#Offensive Efficiency Formula: True Shooting Percentage, Effective Field goal percantage, Offensive rebound percantage\n",
        "#True Shooting Percentage = PTS/(2(FGA+(0.44*FTA))\n",
        "#Effective Field goal percantage: (FGM + 0.5 * 3PM) / FGA\n",
        "#Offensive rebound percantage: (ORB / REB) * 100\n",
        "\n",
        "\n",
        "# st_eff: standard efficiency\n",
        "# League\tSeason\tPlayer\tTeam\tGP\tFGM\tFGA\t3PA\tFTM\tFTA\tTOV\tORB\tREB\tAST\tSTL\tBLK\tPTS\tdraft_round\tdraft_pick\tdraft_team\n",
        "\n",
        "\n",
        "\n",
        "def findStandardEfficiency(row): #Calculating the standard efficiency of the players for each player\n",
        "  point = row[\"PTS\"]\n",
        "  rebound = row[\"REB\"]\n",
        "  assist = row[\"AST\"]\n",
        "  steal = row[\"STL\"]\n",
        "  block = row[\"BLK\"]\n",
        "  missed_fg = row[\"FGA\"] - row[\"FGM\"]\n",
        "  missed_ft = row[\"FTA\"] - row[\"FTM\"]\n",
        "  turnover = row[\"TOV\"]\n",
        "  game_played = row[\"GP\"]\n",
        "\n",
        "  standard_efficiency = (point + rebound + assist + steal + block - missed_fg - missed_ft - turnover) / game_played\n",
        "  return standard_efficiency\n",
        "\n",
        "def findOffensiveEfficiency(row): #Calculating the offensive efficiency of the players for each player\n",
        "  field_goal_attempt = row[\"FGA\"]\n",
        "  free_throw_attempt = row[\"FTA\"]\n",
        "  point = row[\"PTS\"]\n",
        "  assist = row[\"AST\"]\n",
        "  offensive_rebound = row[\"ORB\"]\n",
        "  turnover = row[\"TOV\"]\n",
        "\n",
        "  true_shooting_percentage = point / (2 * (field_goal_attempt + (0.44 * free_throw_attempt)))\n",
        "    \n",
        "\n",
        "\n",
        "  possession_for_player = field_goal_attempt - offensive_rebound + turnover + (0.4 * free_throw_attempt)\n",
        "  offensive_efficiency = (point + assist) / possession_for_player\n",
        "  offensive_data = offensive_efficiency * 15 # to get meaningful_data\n",
        "  return offensive_data\n",
        "\n",
        "\"\"\"\n",
        "Calculating NBA Standard Efficiency Formula and Offensive Efficiency Formula and displaying for 2012\n",
        "\"\"\"\n",
        "\n",
        "df_2011[\"st_eff\"] = df_2011.apply(findStandardEfficiency, axis = 1)\n",
        "df_2011.head(3)\n",
        "\n",
        "df_2011[\"off_eff\"] = df_2011.apply(findOffensiveEfficiency, axis = 1)\n",
        "display(df_2011.head(3))\n",
        "\n",
        "\"\"\"\n",
        "Calculating NBA Standard Efficiency Formula and Offensive Efficiency Formula and displaying for 2012\n",
        "\"\"\"\n",
        "\n",
        "#st_eff and off_eff columns added to year 2012\n",
        "df_2012[\"st_eff\"] = df_2012.apply(findStandardEfficiency, axis = 1)\n",
        "df_2012.head(3)\n",
        "\n",
        "df_2012[\"off_eff\"] = df_2012.apply(findOffensiveEfficiency, axis = 1)\n",
        "display(df_2012.head(3))\n",
        "\n",
        "\"\"\"\n",
        "Calculating NBA Standard Efficiency Formula and Offensive Efficiency Formula and displaying for 2013\n",
        "\"\"\"\n",
        "\n",
        "#st_eff and off_eff columns added to year 2013\n",
        "df_2013[\"st_eff\"] = df_2013.apply(findStandardEfficiency, axis = 1)\n",
        "(df_2013.head(3))\n",
        "\n",
        "df_2013[\"off_eff\"] = df_2013.apply(findOffensiveEfficiency, axis = 1)\n",
        "display(df_2013.head(3))"
      ],
      "execution_count": null,
      "outputs": [
        {
          "output_type": "display_data",
          "data": {
            "text/html": [
              "<div>\n",
              "<style scoped>\n",
              "    .dataframe tbody tr th:only-of-type {\n",
              "        vertical-align: middle;\n",
              "    }\n",
              "\n",
              "    .dataframe tbody tr th {\n",
              "        vertical-align: top;\n",
              "    }\n",
              "\n",
              "    .dataframe thead th {\n",
              "        text-align: right;\n",
              "    }\n",
              "</style>\n",
              "<table border=\"1\" class=\"dataframe\">\n",
              "  <thead>\n",
              "    <tr style=\"text-align: right;\">\n",
              "      <th></th>\n",
              "      <th>League</th>\n",
              "      <th>Season</th>\n",
              "      <th>Player</th>\n",
              "      <th>Team</th>\n",
              "      <th>GP</th>\n",
              "      <th>FGM</th>\n",
              "      <th>FGA</th>\n",
              "      <th>3PA</th>\n",
              "      <th>FTM</th>\n",
              "      <th>FTA</th>\n",
              "      <th>TOV</th>\n",
              "      <th>ORB</th>\n",
              "      <th>REB</th>\n",
              "      <th>AST</th>\n",
              "      <th>STL</th>\n",
              "      <th>BLK</th>\n",
              "      <th>PTS</th>\n",
              "      <th>draft_round</th>\n",
              "      <th>draft_pick</th>\n",
              "      <th>draft_team</th>\n",
              "      <th>3_PM</th>\n",
              "      <th>st_eff</th>\n",
              "      <th>off_eff</th>\n",
              "    </tr>\n",
              "  </thead>\n",
              "  <tbody>\n",
              "    <tr>\n",
              "      <th>11849</th>\n",
              "      <td>NBA</td>\n",
              "      <td>2010 - 2011</td>\n",
              "      <td>Kevin Durant</td>\n",
              "      <td>OKC</td>\n",
              "      <td>78</td>\n",
              "      <td>711</td>\n",
              "      <td>1538</td>\n",
              "      <td>414</td>\n",
              "      <td>594</td>\n",
              "      <td>675</td>\n",
              "      <td>218</td>\n",
              "      <td>57</td>\n",
              "      <td>533</td>\n",
              "      <td>214</td>\n",
              "      <td>88</td>\n",
              "      <td>76</td>\n",
              "      <td>2161</td>\n",
              "      <td>1.0</td>\n",
              "      <td>2.0</td>\n",
              "      <td>Seattle SuperSonics</td>\n",
              "      <td>145</td>\n",
              "      <td>24.948718</td>\n",
              "      <td>18.092941</td>\n",
              "    </tr>\n",
              "    <tr>\n",
              "      <th>11850</th>\n",
              "      <td>NBA</td>\n",
              "      <td>2010 - 2011</td>\n",
              "      <td>LeBron James</td>\n",
              "      <td>MIA</td>\n",
              "      <td>79</td>\n",
              "      <td>758</td>\n",
              "      <td>1484</td>\n",
              "      <td>279</td>\n",
              "      <td>503</td>\n",
              "      <td>663</td>\n",
              "      <td>284</td>\n",
              "      <td>80</td>\n",
              "      <td>590</td>\n",
              "      <td>554</td>\n",
              "      <td>124</td>\n",
              "      <td>50</td>\n",
              "      <td>2111</td>\n",
              "      <td>1.0</td>\n",
              "      <td>1.0</td>\n",
              "      <td>Cleveland Cavaliers</td>\n",
              "      <td>92</td>\n",
              "      <td>28.594937</td>\n",
              "      <td>20.466414</td>\n",
              "    </tr>\n",
              "    <tr>\n",
              "      <th>11852</th>\n",
              "      <td>NBA</td>\n",
              "      <td>2010 - 2011</td>\n",
              "      <td>Derrick Rose</td>\n",
              "      <td>CHI</td>\n",
              "      <td>81</td>\n",
              "      <td>711</td>\n",
              "      <td>1597</td>\n",
              "      <td>385</td>\n",
              "      <td>476</td>\n",
              "      <td>555</td>\n",
              "      <td>278</td>\n",
              "      <td>81</td>\n",
              "      <td>330</td>\n",
              "      <td>623</td>\n",
              "      <td>85</td>\n",
              "      <td>51</td>\n",
              "      <td>2026</td>\n",
              "      <td>1.0</td>\n",
              "      <td>1.0</td>\n",
              "      <td>Chicago Bulls</td>\n",
              "      <td>128</td>\n",
              "      <td>23.111111</td>\n",
              "      <td>19.709821</td>\n",
              "    </tr>\n",
              "  </tbody>\n",
              "</table>\n",
              "</div>"
            ],
            "text/plain": [
              "      League       Season        Player  ... 3_PM     st_eff    off_eff\n",
              "11849    NBA  2010 - 2011  Kevin Durant  ...  145  24.948718  18.092941\n",
              "11850    NBA  2010 - 2011  LeBron James  ...   92  28.594937  20.466414\n",
              "11852    NBA  2010 - 2011  Derrick Rose  ...  128  23.111111  19.709821\n",
              "\n",
              "[3 rows x 23 columns]"
            ]
          },
          "metadata": {
            "tags": []
          }
        },
        {
          "output_type": "display_data",
          "data": {
            "text/html": [
              "<div>\n",
              "<style scoped>\n",
              "    .dataframe tbody tr th:only-of-type {\n",
              "        vertical-align: middle;\n",
              "    }\n",
              "\n",
              "    .dataframe tbody tr th {\n",
              "        vertical-align: top;\n",
              "    }\n",
              "\n",
              "    .dataframe thead th {\n",
              "        text-align: right;\n",
              "    }\n",
              "</style>\n",
              "<table border=\"1\" class=\"dataframe\">\n",
              "  <thead>\n",
              "    <tr style=\"text-align: right;\">\n",
              "      <th></th>\n",
              "      <th>League</th>\n",
              "      <th>Season</th>\n",
              "      <th>Player</th>\n",
              "      <th>Team</th>\n",
              "      <th>GP</th>\n",
              "      <th>FGM</th>\n",
              "      <th>FGA</th>\n",
              "      <th>3PA</th>\n",
              "      <th>FTM</th>\n",
              "      <th>FTA</th>\n",
              "      <th>TOV</th>\n",
              "      <th>ORB</th>\n",
              "      <th>REB</th>\n",
              "      <th>AST</th>\n",
              "      <th>STL</th>\n",
              "      <th>BLK</th>\n",
              "      <th>PTS</th>\n",
              "      <th>draft_round</th>\n",
              "      <th>draft_pick</th>\n",
              "      <th>draft_team</th>\n",
              "      <th>3_PM</th>\n",
              "      <th>st_eff</th>\n",
              "      <th>off_eff</th>\n",
              "    </tr>\n",
              "  </thead>\n",
              "  <tbody>\n",
              "    <tr>\n",
              "      <th>14704</th>\n",
              "      <td>NBA</td>\n",
              "      <td>2011 - 2012</td>\n",
              "      <td>Kevin Durant</td>\n",
              "      <td>OKC</td>\n",
              "      <td>66</td>\n",
              "      <td>643</td>\n",
              "      <td>1297</td>\n",
              "      <td>344</td>\n",
              "      <td>431</td>\n",
              "      <td>501</td>\n",
              "      <td>248</td>\n",
              "      <td>40</td>\n",
              "      <td>527</td>\n",
              "      <td>231</td>\n",
              "      <td>88</td>\n",
              "      <td>77</td>\n",
              "      <td>1850</td>\n",
              "      <td>1.0</td>\n",
              "      <td>2.0</td>\n",
              "      <td>Seattle SuperSonics</td>\n",
              "      <td>133</td>\n",
              "      <td>27.287879</td>\n",
              "      <td>18.303624</td>\n",
              "    </tr>\n",
              "    <tr>\n",
              "      <th>14705</th>\n",
              "      <td>NBA</td>\n",
              "      <td>2011 - 2012</td>\n",
              "      <td>LeBron James</td>\n",
              "      <td>MIA</td>\n",
              "      <td>62</td>\n",
              "      <td>621</td>\n",
              "      <td>1169</td>\n",
              "      <td>149</td>\n",
              "      <td>387</td>\n",
              "      <td>502</td>\n",
              "      <td>213</td>\n",
              "      <td>94</td>\n",
              "      <td>492</td>\n",
              "      <td>387</td>\n",
              "      <td>115</td>\n",
              "      <td>50</td>\n",
              "      <td>1683</td>\n",
              "      <td>1.0</td>\n",
              "      <td>1.0</td>\n",
              "      <td>Cleveland Cavaliers</td>\n",
              "      <td>54</td>\n",
              "      <td>29.854839</td>\n",
              "      <td>20.855723</td>\n",
              "    </tr>\n",
              "    <tr>\n",
              "      <th>14709</th>\n",
              "      <td>NBA</td>\n",
              "      <td>2011 - 2012</td>\n",
              "      <td>Blake Griffin</td>\n",
              "      <td>LAC</td>\n",
              "      <td>66</td>\n",
              "      <td>561</td>\n",
              "      <td>1022</td>\n",
              "      <td>16</td>\n",
              "      <td>244</td>\n",
              "      <td>468</td>\n",
              "      <td>150</td>\n",
              "      <td>218</td>\n",
              "      <td>717</td>\n",
              "      <td>210</td>\n",
              "      <td>54</td>\n",
              "      <td>48</td>\n",
              "      <td>1368</td>\n",
              "      <td>1.0</td>\n",
              "      <td>1.0</td>\n",
              "      <td>Los Angeles Clippers</td>\n",
              "      <td>2</td>\n",
              "      <td>23.666667</td>\n",
              "      <td>20.741325</td>\n",
              "    </tr>\n",
              "  </tbody>\n",
              "</table>\n",
              "</div>"
            ],
            "text/plain": [
              "      League       Season         Player  ... 3_PM     st_eff    off_eff\n",
              "14704    NBA  2011 - 2012   Kevin Durant  ...  133  27.287879  18.303624\n",
              "14705    NBA  2011 - 2012   LeBron James  ...   54  29.854839  20.855723\n",
              "14709    NBA  2011 - 2012  Blake Griffin  ...    2  23.666667  20.741325\n",
              "\n",
              "[3 rows x 23 columns]"
            ]
          },
          "metadata": {
            "tags": []
          }
        },
        {
          "output_type": "display_data",
          "data": {
            "text/html": [
              "<div>\n",
              "<style scoped>\n",
              "    .dataframe tbody tr th:only-of-type {\n",
              "        vertical-align: middle;\n",
              "    }\n",
              "\n",
              "    .dataframe tbody tr th {\n",
              "        vertical-align: top;\n",
              "    }\n",
              "\n",
              "    .dataframe thead th {\n",
              "        text-align: right;\n",
              "    }\n",
              "</style>\n",
              "<table border=\"1\" class=\"dataframe\">\n",
              "  <thead>\n",
              "    <tr style=\"text-align: right;\">\n",
              "      <th></th>\n",
              "      <th>League</th>\n",
              "      <th>Season</th>\n",
              "      <th>Player</th>\n",
              "      <th>Team</th>\n",
              "      <th>GP</th>\n",
              "      <th>FGM</th>\n",
              "      <th>FGA</th>\n",
              "      <th>3PA</th>\n",
              "      <th>FTM</th>\n",
              "      <th>FTA</th>\n",
              "      <th>TOV</th>\n",
              "      <th>ORB</th>\n",
              "      <th>REB</th>\n",
              "      <th>AST</th>\n",
              "      <th>STL</th>\n",
              "      <th>BLK</th>\n",
              "      <th>PTS</th>\n",
              "      <th>draft_round</th>\n",
              "      <th>draft_pick</th>\n",
              "      <th>draft_team</th>\n",
              "      <th>3_PM</th>\n",
              "      <th>st_eff</th>\n",
              "      <th>off_eff</th>\n",
              "    </tr>\n",
              "  </thead>\n",
              "  <tbody>\n",
              "    <tr>\n",
              "      <th>18717</th>\n",
              "      <td>NBA</td>\n",
              "      <td>2012 - 2013</td>\n",
              "      <td>Kevin Durant</td>\n",
              "      <td>OKC</td>\n",
              "      <td>81</td>\n",
              "      <td>731</td>\n",
              "      <td>1433</td>\n",
              "      <td>334</td>\n",
              "      <td>679</td>\n",
              "      <td>750</td>\n",
              "      <td>280</td>\n",
              "      <td>46</td>\n",
              "      <td>640</td>\n",
              "      <td>374</td>\n",
              "      <td>116</td>\n",
              "      <td>105</td>\n",
              "      <td>2280</td>\n",
              "      <td>1.0</td>\n",
              "      <td>2.0</td>\n",
              "      <td>Seattle SuperSonics</td>\n",
              "      <td>139</td>\n",
              "      <td>30.395062</td>\n",
              "      <td>20.238943</td>\n",
              "    </tr>\n",
              "    <tr>\n",
              "      <th>18719</th>\n",
              "      <td>NBA</td>\n",
              "      <td>2012 - 2013</td>\n",
              "      <td>LeBron James</td>\n",
              "      <td>MIA</td>\n",
              "      <td>76</td>\n",
              "      <td>765</td>\n",
              "      <td>1354</td>\n",
              "      <td>254</td>\n",
              "      <td>403</td>\n",
              "      <td>535</td>\n",
              "      <td>226</td>\n",
              "      <td>97</td>\n",
              "      <td>610</td>\n",
              "      <td>551</td>\n",
              "      <td>129</td>\n",
              "      <td>67</td>\n",
              "      <td>2036</td>\n",
              "      <td>1.0</td>\n",
              "      <td>1.0</td>\n",
              "      <td>Cleveland Cavaliers</td>\n",
              "      <td>103</td>\n",
              "      <td>32.184211</td>\n",
              "      <td>22.866824</td>\n",
              "    </tr>\n",
              "    <tr>\n",
              "      <th>18726</th>\n",
              "      <td>NBA</td>\n",
              "      <td>2012 - 2013</td>\n",
              "      <td>LaMarcus Aldridge</td>\n",
              "      <td>POR</td>\n",
              "      <td>74</td>\n",
              "      <td>638</td>\n",
              "      <td>1318</td>\n",
              "      <td>14</td>\n",
              "      <td>282</td>\n",
              "      <td>348</td>\n",
              "      <td>143</td>\n",
              "      <td>175</td>\n",
              "      <td>670</td>\n",
              "      <td>192</td>\n",
              "      <td>62</td>\n",
              "      <td>91</td>\n",
              "      <td>1560</td>\n",
              "      <td>1.0</td>\n",
              "      <td>2.0</td>\n",
              "      <td>Chicago Bulls</td>\n",
              "      <td>2</td>\n",
              "      <td>22.783784</td>\n",
              "      <td>18.439517</td>\n",
              "    </tr>\n",
              "  </tbody>\n",
              "</table>\n",
              "</div>"
            ],
            "text/plain": [
              "      League       Season             Player  ... 3_PM     st_eff    off_eff\n",
              "18717    NBA  2012 - 2013       Kevin Durant  ...  139  30.395062  20.238943\n",
              "18719    NBA  2012 - 2013       LeBron James  ...  103  32.184211  22.866824\n",
              "18726    NBA  2012 - 2013  LaMarcus Aldridge  ...    2  22.783784  18.439517\n",
              "\n",
              "[3 rows x 23 columns]"
            ]
          },
          "metadata": {
            "tags": []
          }
        }
      ]
    },
    {
      "cell_type": "markdown",
      "metadata": {
        "id": "uqaXYQ8teWQQ"
      },
      "source": [
        "###Standard Efficiency and Offensive Efficiency features are added to the data frame for each year and they are shown."
      ]
    },
    {
      "cell_type": "code",
      "metadata": {
        "colab": {
          "base_uri": "https://localhost:8080/",
          "height": 851
        },
        "id": "aicBfABDxRYx",
        "outputId": "8ff378c8-dc24-4472-ed86-3210cd66bb08"
      },
      "source": [
        "\"\"\"\n",
        "Bar Charts are created for each season with using filtered dataFrame\n",
        "\"\"\"\n",
        "\n",
        "# Barh Chart Graph for 2010 - 2011\n",
        "\n",
        "stf_2011_arr = df_2011.iloc[:, 1:][\"st_eff\"].values\n",
        "off_2011_arr = df_2011.iloc[:, 1:][\"off_eff\"].values\n",
        "player_2011_arr = df_2011.iloc[:, 1:][\"Player\"].values\n",
        "st_of_2011_df = pd.DataFrame({\"st_eff\": stf_2011_arr,\n",
        "                              \"off_eff\": off_2011_arr}, index = player_2011_arr)\n",
        "\n",
        "chart_2011 = st_of_2011_df.plot.barh( width=1, title =\"2010-2011 Players Standart - Offensive Efficiencies\")\n",
        "plt.grid(axis=\"x\",color=\"gray\")\n",
        "chart_2011.set_xlabel(\"Standart and Offensive efficiencies\")\n",
        "chart_2011.set_ylabel(\"Players\")\n",
        "\n",
        "\n",
        "# Barh Chart Graph for 2011 - 2012\n",
        "\n",
        "stf_2012_arr = df_2012.iloc[:, 1:][\"st_eff\"].values\n",
        "off_2012_arr = df_2012.iloc[:, 1:][\"off_eff\"].values\n",
        "player_2012_arr = df_2012.iloc[:, 1:][\"Player\"].values\n",
        "st_of_2012_df = pd.DataFrame({\"st_eff\": stf_2012_arr,\n",
        "                              \"off_eff\": off_2012_arr}, index = player_2012_arr)\n",
        "\n",
        "chart_2012 = st_of_2012_df.plot.barh( width=1, title =\"2011-2012 Players Standart - Offensive Efficiencies\")\n",
        "plt.grid(axis=\"x\",color=\"gray\")\n",
        "chart_2012.set_xlabel(\"Standart and Offensive efficiencies\")\n",
        "chart_2012.set_ylabel(\"Players\")\n",
        "\n",
        "\n",
        "# Barh Chart Graph for 2012 - 2013\n",
        "\n",
        "stf_2013_arr = df_2013.iloc[:, 1:][\"st_eff\"].values\n",
        "off_2013_arr = df_2013.iloc[:, 1:][\"off_eff\"].values\n",
        "player_2013_arr = df_2013.iloc[:, 1:][\"Player\"].values\n",
        "st_of_2013_df = pd.DataFrame({\"st_eff\": stf_2013_arr,\n",
        "                              \"off_eff\": off_2013_arr}, index = player_2013_arr)\n",
        "\n",
        "chart_2013 = st_of_2013_df.plot.barh( width=1, title =\"2012-2013 Players Standart - Offensive Efficiencies\")\n",
        "plt.grid(axis=\"x\",color=\"gray\")\n",
        "chart_2013.set_xlabel(\"Standart and Offensive efficiencies\")\n",
        "chart_2013.set_ylabel(\"Players\"); # ; added for removing meaningless writting at the top"
      ],
      "execution_count": null,
      "outputs": [
        {
          "output_type": "display_data",
          "data": {
            "image/png": "[encoded data removed]",
            "text/plain": [
              "<Figure size 432x288 with 1 Axes>"
            ]
          },
          "metadata": {
            "tags": [],
            "needs_background": "light"
          }
        },
        {
          "output_type": "display_data",
          "data": {
            "image/png": "[encoded data removed]",
            "text/plain": [
              "<Figure size 432x288 with 1 Axes>"
            ]
          },
          "metadata": {
            "tags": [],
            "needs_background": "light"
          }
        },
        {
          "output_type": "display_data",
          "data": {
            "image/png": "[encoded data removed]",
            "text/plain": [
              "<Figure size 432x288 with 1 Axes>"
            ]
          },
          "metadata": {
            "tags": [],
            "needs_background": "light"
          }
        }
      ]
    },
    {
      "cell_type": "markdown",
      "metadata": {
        "id": "VjwyuYV1gHda"
      },
      "source": [
        "##Season by season the offensive and standart efficiencies are shown to compare a players' efficiencies.\n",
        "\n",
        "###We can see that offensive efficiency is higher then the standart efficiency stat for most of the players in 2012-2013, year by year players focused more on their offensive traits rather than their defensive traits which results in increasing of offensive efficiency.\n"
      ]
    },
    {
      "cell_type": "code",
      "metadata": {
        "colab": {
          "base_uri": "https://localhost:8080/"
        },
        "id": "XTAPurUbxVL6",
        "outputId": "4ef683d7-4163-4e39-f379-9670545241b3"
      },
      "source": [
        "\"\"\"\n",
        "5 players are selected in order to evaluation\n",
        "\"\"\"\n",
        "stf_2011_arr = df_2011.iloc[:, 1:][\"st_eff\"].values\n",
        "off_2011_arr = df_2011.iloc[:, 1:][\"off_eff\"].values\n",
        "player_2011_arr = df_2011.iloc[:, 1:][\"Player\"].values\n",
        "\n",
        "# 2011\n",
        "tuple_2011 = list(zip(player_2011_arr, stf_2011_arr, off_2011_arr))\n",
        "\"\"\"\n",
        "for player, stf, off in tuple_2011:\n",
        "  print(player, stf, off)\n",
        "\"\"\"\n",
        "# 2012\n",
        "tuple_2012 = list(zip(player_2012_arr, stf_2012_arr, off_2012_arr))\n",
        "\n",
        "#2013\n",
        "tuple_2013 = list(zip(player_2013_arr, stf_2013_arr, off_2013_arr))  \n",
        "\n",
        "\n",
        "\n",
        "def findWantedPlayers(tuple_list, number_of_players):\n",
        "  current_tuple_list = []\n",
        "  tuple_list = list(tuple_list)\n",
        "  for i in range(number_of_players):\n",
        "      player = tuple_list[i][0]\n",
        "      if player == \"LeBron James\" or player == \"Kevin Durant\" or player == \"Blake Griffin\" or player == \"Tim Duncan\" or player == \"Elton Brand\":\n",
        "        #current_tuple_list.remove(tuple_list[i])\n",
        "        current_tuple_list.append(tuple_list[i])\n",
        "\n",
        "  return current_tuple_list\n",
        "\n",
        "new_list_2011 = findWantedPlayers(tuple_2011, len(player_2011_arr))\n",
        "new_tuple_2011 = list(tuple(new_list_2011))\n",
        "new_list_2012 = findWantedPlayers(tuple_2012, len(player_2012_arr))\n",
        "new_tuple_2012 = list(tuple(new_list_2012))\n",
        "new_list_2013 = findWantedPlayers(tuple_2013, len(player_2013_arr))\n",
        "new_tuple_2013 = list(tuple(new_list_2013))\n",
        "\n",
        "print(new_tuple_2011)\n",
        "print()\n",
        "print(new_tuple_2012)\n",
        "print()\n",
        "print(new_tuple_2013)"
      ],
      "execution_count": null,
      "outputs": [
        {
          "output_type": "stream",
          "text": [
            "[('Kevin Durant', 24.94871794871795, 18.0929405789741), ('LeBron James', 28.59493670886076, 20.466414089698954), ('Blake Griffin', 25.634146341463413, 20.133789670192908), ('Elton Brand', 19.395061728395063, 21.017606371829803), ('Tim Duncan', 19.539473684210527, 20.558290445289778)]\n",
            "\n",
            "[('Kevin Durant', 27.28787878787879, 18.303623783276652), ('LeBron James', 29.85483870967742, 20.855722729715207), ('Blake Griffin', 23.666666666666668, 20.741324921135643), ('Tim Duncan', 19.448275862068964, 18.79575402635432), ('Elton Brand', 15.833333333333334, 20.71611253196931)]\n",
            "\n",
            "[('Kevin Durant', 30.395061728395063, 20.238942552109812), ('LeBron James', 32.18421052631579, 22.86682380671774), ('Blake Griffin', 21.5375, 21.01256645722571), ('Tim Duncan', 23.797101449275363, 18.9142091152815), ('Elton Brand', 11.416666666666666, 19.94572591587517)]\n"
          ],
          "name": "stdout"
        }
      ]
    },
    {
      "cell_type": "markdown",
      "metadata": {
        "id": "tyS989vvg81-"
      },
      "source": [
        "##We have selected 5 different players which exist in all three seasons and dropped the stats of them which we are not gonna use and converted to 3 different lists season by season."
      ]
    },
    {
      "cell_type": "code",
      "metadata": {
        "colab": {
          "base_uri": "https://localhost:8080/"
        },
        "id": "i_VqE6fPxv-X",
        "outputId": "4b362941-44d2-4351-d29f-56380a9aab84"
      },
      "source": [
        "\"\"\"\n",
        "Get standard efficiency average and offensive efficiency average for selected 5 players\n",
        "\"\"\"\n",
        "\n",
        "def get_top_5_list(position):\n",
        "  #if position == 1:\n",
        "  #player_index = 1\n",
        "  wanted_stats_list = []\n",
        "  #while player_index < 3:\n",
        "\n",
        "  for feature_index in range(5): # iterate through each player\n",
        "    wanted_stats_list.append((new_tuple_2011[feature_index][position] + new_tuple_2012[feature_index][position] + new_tuple_2013[feature_index][position]) / 3)\n",
        " \n",
        "  return wanted_stats_list \n",
        "\n",
        "st_index = 1 # store index of standard efficeny\n",
        "off_index = 2  # store index of offensive efficency\n",
        "st_eff_list = get_top_5_list(1)\n",
        "off_eff_list = get_top_5_list(2)\n",
        "\n",
        "#print(final_players_list)\n",
        "print(st_eff_list)\n",
        "print()\n",
        "print(off_eff_list)"
      ],
      "execution_count": null,
      "outputs": [
        {
          "output_type": "stream",
          "text": [
            "[27.543886154997267, 30.21132864828466, 23.61277100271003, 20.880146346579796, 15.596491228070176]\n",
            "\n",
            "[18.878502304786856, 21.396320208710634, 20.629227016184753, 19.57585650448854, 20.40670963104475]\n"
          ],
          "name": "stdout"
        }
      ]
    },
    {
      "cell_type": "markdown",
      "metadata": {
        "id": "rTprY1rviWsv"
      },
      "source": [
        "##We calculated the average stats of 3 years for standart efficiency and offensive efficiency stats for the selected 5 players."
      ]
    },
    {
      "cell_type": "code",
      "metadata": {
        "colab": {
          "base_uri": "https://localhost:8080/",
          "height": 204
        },
        "id": "fKkxSxODx2l6",
        "outputId": "5a54a5f2-02ae-499c-dada-e615aa594260"
      },
      "source": [
        "\"\"\"\n",
        "Displaying the standard efficiency average and offensive efficiency average for selected 5 players\n",
        "\"\"\"\n",
        "\n",
        "\n",
        "selected_5_players_df = pd.DataFrame(st_eff_list, columns = [\"avg_st_eff\"])\n",
        "\n",
        "selected_5_players_df.head(5)\n",
        "\n",
        "selected_5_player_list = [\"LeBron James\", \"Kevin Durant\", \"Blake Griffin\", \"Tim Duncan\", \"Elton Brand\"]\n",
        "selected_5_players_df = pd.DataFrame({\"avg_st_eff\": st_eff_list,\n",
        "                              \"avg_off_eff\": off_eff_list}, index = selected_5_player_list)\n",
        "selected_5_players_df.head(5)\n"
      ],
      "execution_count": null,
      "outputs": [
        {
          "output_type": "execute_result",
          "data": {
            "text/html": [
              "<div>\n",
              "<style scoped>\n",
              "    .dataframe tbody tr th:only-of-type {\n",
              "        vertical-align: middle;\n",
              "    }\n",
              "\n",
              "    .dataframe tbody tr th {\n",
              "        vertical-align: top;\n",
              "    }\n",
              "\n",
              "    .dataframe thead th {\n",
              "        text-align: right;\n",
              "    }\n",
              "</style>\n",
              "<table border=\"1\" class=\"dataframe\">\n",
              "  <thead>\n",
              "    <tr style=\"text-align: right;\">\n",
              "      <th></th>\n",
              "      <th>avg_st_eff</th>\n",
              "      <th>avg_off_eff</th>\n",
              "    </tr>\n",
              "  </thead>\n",
              "  <tbody>\n",
              "    <tr>\n",
              "      <th>LeBron James</th>\n",
              "      <td>27.543886</td>\n",
              "      <td>18.878502</td>\n",
              "    </tr>\n",
              "    <tr>\n",
              "      <th>Kevin Durant</th>\n",
              "      <td>30.211329</td>\n",
              "      <td>21.396320</td>\n",
              "    </tr>\n",
              "    <tr>\n",
              "      <th>Blake Griffin</th>\n",
              "      <td>23.612771</td>\n",
              "      <td>20.629227</td>\n",
              "    </tr>\n",
              "    <tr>\n",
              "      <th>Tim Duncan</th>\n",
              "      <td>20.880146</td>\n",
              "      <td>19.575857</td>\n",
              "    </tr>\n",
              "    <tr>\n",
              "      <th>Elton Brand</th>\n",
              "      <td>15.596491</td>\n",
              "      <td>20.406710</td>\n",
              "    </tr>\n",
              "  </tbody>\n",
              "</table>\n",
              "</div>"
            ],
            "text/plain": [
              "               avg_st_eff  avg_off_eff\n",
              "LeBron James    27.543886    18.878502\n",
              "Kevin Durant    30.211329    21.396320\n",
              "Blake Griffin   23.612771    20.629227\n",
              "Tim Duncan      20.880146    19.575857\n",
              "Elton Brand     15.596491    20.406710"
            ]
          },
          "metadata": {
            "tags": []
          },
          "execution_count": 11
        }
      ]
    },
    {
      "cell_type": "markdown",
      "metadata": {
        "id": "qC_fg4FQiznz"
      },
      "source": [
        "##Added the average stats to a new dataframe for selected 5 players and displayed it."
      ]
    },
    {
      "cell_type": "code",
      "metadata": {
        "colab": {
          "base_uri": "https://localhost:8080/",
          "height": 295
        },
        "id": "sEs--eyOyD1x",
        "outputId": "a0f0b1f4-3057-4628-d9fc-99009bfcf88f"
      },
      "source": [
        "\"\"\"\n",
        "Displaying the graph of the selected 5 players based on standard efficiency average and offensive efficiency average\n",
        "\"\"\"\n",
        "\n",
        "avg_chart = selected_5_players_df.plot.barh(width=0.8, title =\"Average Statistics of Selected Players\")\n",
        "plt.grid(axis=\"x\",color=\"gray\")\n",
        "avg_chart.set_xlabel(\"Average standart and offensive efficiencies\")\n",
        "avg_chart.set_ylabel(\"Players\");"
      ],
      "execution_count": null,
      "outputs": [
        {
          "output_type": "display_data",
          "data": {
            "image/png": "[encoded data removed]",
            "text/plain": [
              "<Figure size 432x288 with 1 Axes>"
            ]
          },
          "metadata": {
            "tags": [],
            "needs_background": "light"
          }
        }
      ]
    },
    {
      "cell_type": "markdown",
      "metadata": {
        "id": "sZe4YfUljcf-"
      },
      "source": [
        "##Created a chart for the new dataset with selected five players we choose them for their existence of all three seasons and the average stats of them.\n",
        "\n",
        "###We can see that generrally the players which exists in all seasons focused on their defensive traits as likely as their offensive traits. "
      ]
    },
    {
      "cell_type": "markdown",
      "metadata": {
        "id": "gWoY8F-v4ZU0"
      },
      "source": [
        "## Machine Learning Models\n",
        "\n",
        "<font color=\"blue\">\n",
        "This is the section that you primarily need work on for the final report. Implement at least two machine learning models so that you can compare them.\n",
        "</font>"
      ]
    },
    {
      "cell_type": "markdown",
      "metadata": {
        "id": "g4pa5MNXFPV7"
      },
      "source": [
        "##Linear Regression\n"
      ]
    },
    {
      "cell_type": "markdown",
      "metadata": {
        "id": "67QXh8uI4c9V"
      },
      "source": [
        "### Implementation\n",
        "\n",
        "<font color=\"blue\">\n",
        "Implement and evaluate your models. Perform hyperparameter tunning if necessary. Choose the correct evaluation metrics.\n",
        "</font>"
      ]
    },
    {
      "cell_type": "markdown",
      "metadata": {
        "id": "97flB5UdYj8j"
      },
      "source": [
        "Linear regression"
      ]
    },
    {
      "cell_type": "code",
      "metadata": {
        "id": "46SRqxSIDiqi",
        "colab": {
          "base_uri": "https://localhost:8080/",
          "height": 419
        },
        "outputId": "c95442d5-f587-43c8-e339-767c626cb082"
      },
      "source": [
        "def IsInPlace(row): #Checks if the player is in the draft round 1.\n",
        "  draft_round = row[\"draft_round\"]\n",
        "  draft_pick = row[\"draft_pick\"]\n",
        "\n",
        "  if draft_round == 1:\n",
        "    return \"inPlace\"\n",
        "  \n",
        "  return None\n",
        "\n",
        "def IsValidML(row): # extracts related rows\n",
        "  season = row[\"Season\"]\n",
        "  league = row[\"League\"]\n",
        "  stage = row[\"Stage\"]\n",
        "\n",
        "  #if (league == \"NBA\") and ((season == \"2010 - 2011\") or (season == \"2011 - 2012\") or (season == \"2012 - 2013\")):\n",
        "  if league == \"NBA\" and stage == \"Regular_Season\":\n",
        "    if season == \"2010 - 2011\":\n",
        "      return \"valid\"\n",
        "    elif season == \"2011 - 2012\":\n",
        "      return \"valid\"\n",
        "    elif season == \"2012 - 2013\":\n",
        "      return \"valid\"\n",
        "\n",
        "  return None\n",
        "\n",
        "\n",
        "df_ML = df.copy()\n",
        "df_ML[\"valid\"] = df_ML.apply(IsValidML, axis = 1)\n",
        "df_ML.dropna(inplace = True)\n",
        "df_ML.Player.unique()\n",
        "\n",
        "\n",
        "df_ML[\"st_eff\"] = df_ML.apply(findStandardEfficiency, axis = 1)\n",
        "df_ML.head(3)\n",
        "\n",
        "df_ML[\"off_eff\"] = df_ML.apply(findOffensiveEfficiency, axis = 1)\n",
        "df_ML.head(3)\n",
        "\n",
        "\n",
        "df_ML.drop([\"League\", \"Season\", \"Team\", \"GP\",\"FGM\", \"FGA\", \"3PA\", \"FTM\", \"FTA\", \"TOV\", \"ORB\", \"REB\", \"AST\", \"STL\", \"BLK\", \"PTS\", \"draft_round\", \"draft_team\", \"3_PM\", \"valid\", \"Stage\", \"MIN\",\t\"PF\",\t\"DRB\",\t\"birth_year\",\t\"birth_month\",\t\"birth_date\",\t\"height\",\t\"height_cm\",\t\"weight\",\t\"weight_kg\",\t\"nationality\", \"high_school\"], axis = 1, inplace = True)\n",
        "\n",
        "df_ML"
      ],
      "execution_count": null,
      "outputs": [
        {
          "output_type": "execute_result",
          "data": {
            "text/html": [
              "<div>\n",
              "<style scoped>\n",
              "    .dataframe tbody tr th:only-of-type {\n",
              "        vertical-align: middle;\n",
              "    }\n",
              "\n",
              "    .dataframe tbody tr th {\n",
              "        vertical-align: top;\n",
              "    }\n",
              "\n",
              "    .dataframe thead th {\n",
              "        text-align: right;\n",
              "    }\n",
              "</style>\n",
              "<table border=\"1\" class=\"dataframe\">\n",
              "  <thead>\n",
              "    <tr style=\"text-align: right;\">\n",
              "      <th></th>\n",
              "      <th>Player</th>\n",
              "      <th>draft_pick</th>\n",
              "      <th>st_eff</th>\n",
              "      <th>off_eff</th>\n",
              "    </tr>\n",
              "  </thead>\n",
              "  <tbody>\n",
              "    <tr>\n",
              "      <th>11849</th>\n",
              "      <td>Kevin Durant</td>\n",
              "      <td>2.0</td>\n",
              "      <td>24.948718</td>\n",
              "      <td>18.092941</td>\n",
              "    </tr>\n",
              "    <tr>\n",
              "      <th>11850</th>\n",
              "      <td>LeBron James</td>\n",
              "      <td>1.0</td>\n",
              "      <td>28.594937</td>\n",
              "      <td>20.466414</td>\n",
              "    </tr>\n",
              "    <tr>\n",
              "      <th>11851</th>\n",
              "      <td>Kobe Bryant</td>\n",
              "      <td>13.0</td>\n",
              "      <td>21.390244</td>\n",
              "      <td>18.201949</td>\n",
              "    </tr>\n",
              "    <tr>\n",
              "      <th>11852</th>\n",
              "      <td>Derrick Rose</td>\n",
              "      <td>1.0</td>\n",
              "      <td>23.111111</td>\n",
              "      <td>19.709821</td>\n",
              "    </tr>\n",
              "    <tr>\n",
              "      <th>11853</th>\n",
              "      <td>Amar'e Stoudemire</td>\n",
              "      <td>9.0</td>\n",
              "      <td>24.589744</td>\n",
              "      <td>18.386169</td>\n",
              "    </tr>\n",
              "    <tr>\n",
              "      <th>...</th>\n",
              "      <td>...</td>\n",
              "      <td>...</td>\n",
              "      <td>...</td>\n",
              "      <td>...</td>\n",
              "    </tr>\n",
              "    <tr>\n",
              "      <th>18935</th>\n",
              "      <td>Festus Ezeli</td>\n",
              "      <td>30.0</td>\n",
              "      <td>5.474359</td>\n",
              "      <td>25.891410</td>\n",
              "    </tr>\n",
              "    <tr>\n",
              "      <th>18936</th>\n",
              "      <td>Nazr Mohammed</td>\n",
              "      <td>29.0</td>\n",
              "      <td>4.587302</td>\n",
              "      <td>19.225634</td>\n",
              "    </tr>\n",
              "    <tr>\n",
              "      <th>18937</th>\n",
              "      <td>Hasheem Thabeet</td>\n",
              "      <td>2.0</td>\n",
              "      <td>5.333333</td>\n",
              "      <td>25.856855</td>\n",
              "    </tr>\n",
              "    <tr>\n",
              "      <th>18938</th>\n",
              "      <td>Sam Young</td>\n",
              "      <td>6.0</td>\n",
              "      <td>3.571429</td>\n",
              "      <td>17.160279</td>\n",
              "    </tr>\n",
              "    <tr>\n",
              "      <th>18941</th>\n",
              "      <td>Ronny Turiaf</td>\n",
              "      <td>7.0</td>\n",
              "      <td>3.769231</td>\n",
              "      <td>22.033898</td>\n",
              "    </tr>\n",
              "  </tbody>\n",
              "</table>\n",
              "<p>530 rows × 4 columns</p>\n",
              "</div>"
            ],
            "text/plain": [
              "                  Player  draft_pick     st_eff    off_eff\n",
              "11849       Kevin Durant         2.0  24.948718  18.092941\n",
              "11850       LeBron James         1.0  28.594937  20.466414\n",
              "11851        Kobe Bryant        13.0  21.390244  18.201949\n",
              "11852       Derrick Rose         1.0  23.111111  19.709821\n",
              "11853  Amar'e Stoudemire         9.0  24.589744  18.386169\n",
              "...                  ...         ...        ...        ...\n",
              "18935       Festus Ezeli        30.0   5.474359  25.891410\n",
              "18936      Nazr Mohammed        29.0   4.587302  19.225634\n",
              "18937    Hasheem Thabeet         2.0   5.333333  25.856855\n",
              "18938          Sam Young         6.0   3.571429  17.160279\n",
              "18941       Ronny Turiaf         7.0   3.769231  22.033898\n",
              "\n",
              "[530 rows x 4 columns]"
            ]
          },
          "metadata": {
            "tags": []
          },
          "execution_count": 13
        }
      ]
    },
    {
      "cell_type": "markdown",
      "metadata": {
        "id": "3qHLEp1PBoto"
      },
      "source": [
        "### The data frame which will be used in linear regression is created which includes features standart efficiency, offensive efficiency and the draft pick of players."
      ]
    },
    {
      "cell_type": "code",
      "metadata": {
        "colab": {
          "base_uri": "https://localhost:8080/",
          "height": 552
        },
        "id": "NtbAIOsFVxkZ",
        "outputId": "2cef3c07-609d-4f68-8a8b-2bc584f0087e"
      },
      "source": [
        "import sklearn\n",
        "from sklearn import linear_model\n",
        "\n",
        "\"\"\"\n",
        "Offensive Efificiency\n",
        "\"\"\"\n",
        "\n",
        "Y = df_ML['draft_pick']\n",
        "X = df_ML['off_eff']\n",
        "\n",
        "regr = linear_model.LinearRegression()\n",
        "X = X.values.reshape(-1, 1)\n",
        "regr.fit(X, Y)\n",
        "\n",
        "\n",
        "print('Coefficients: \\n', -100 * regr.coef_)\n",
        "\n",
        "plt.figure(figsize=(8, 8))\n",
        "plt.scatter(df_ML['off_eff'], df_ML['draft_pick'], color='red')\n",
        "\n",
        "\n",
        "plt.title('Offensive Efficiency vs Draft Pick', fontsize=14)\n",
        "plt.xlabel('Offensive Efficiency', fontsize=14)\n",
        "plt.ylabel('Draft Pick', fontsize=14)\n",
        "plt.grid(True)\n",
        "\n",
        "plt.gca().invert_yaxis() #Ordering the draft pick in the desired formation\n",
        "plt.show()\n"
      ],
      "execution_count": null,
      "outputs": [
        {
          "output_type": "stream",
          "text": [
            "Coefficients: \n",
            " [10.68873967]\n"
          ],
          "name": "stdout"
        },
        {
          "output_type": "display_data",
          "data": {
            "image/png": "[encoded data removed]",
            "text/plain": [
              "<Figure size 576x576 with 1 Axes>"
            ]
          },
          "metadata": {
            "tags": [],
            "needs_background": "light"
          }
        }
      ]
    },
    {
      "cell_type": "markdown",
      "metadata": {
        "id": "nzj5g6U4DpMU"
      },
      "source": [
        "### The weak correlation between the players' offensive efficiency and draft pick is displayed on the graph. The correlation between offensive efficiency and draft pick is so much weaker compared to the standard efficiency and draft pick. We observe that the offensive efficiency of a player has so little effect on the player's draft pick."
      ]
    },
    {
      "cell_type": "code",
      "metadata": {
        "colab": {
          "base_uri": "https://localhost:8080/",
          "height": 552
        },
        "id": "a7VbxjNvVqh5",
        "outputId": "54208110-df76-45e6-cb8d-f0ff20c2c5f5"
      },
      "source": [
        "\"\"\"\n",
        "Standard Efficiency\n",
        "\"\"\"\n",
        "\n",
        "\n",
        "Y = df_ML['draft_pick']\n",
        "X = df_ML['st_eff']\n",
        "\n",
        "regr = linear_model.LinearRegression()\n",
        "X = X.values.reshape(-1, 1)\n",
        "regr.fit(X, Y)\n",
        "\n",
        "\n",
        "print('Coefficients: \\n', -100 * regr.coef_)\n",
        "\n",
        "plt.figure(figsize=(8, 8))\n",
        "plt.scatter(df_ML['st_eff'], df_ML['draft_pick'], color='green')\n",
        "\n",
        "plt.title('Standard Efficiency vs Draft Pick', fontsize=14)\n",
        "plt.xlabel('Standard Efficiency', fontsize=14)\n",
        "plt.ylabel('Draft Pick', fontsize=14)\n",
        "plt.grid(True)\n",
        "\n",
        "plt.gca().invert_yaxis() #Ordering the draft pick in the desired formation\n",
        "\n",
        "plt.show()"
      ],
      "execution_count": null,
      "outputs": [
        {
          "output_type": "stream",
          "text": [
            "Coefficients: \n",
            " [35.48085691]\n"
          ],
          "name": "stdout"
        },
        {
          "output_type": "display_data",
          "data": {
            "image/png": "[encoded data removed]",
            "text/plain": [
              "<Figure size 576x576 with 1 Axes>"
            ]
          },
          "metadata": {
            "tags": [],
            "needs_background": "light"
          }
        }
      ]
    },
    {
      "cell_type": "markdown",
      "metadata": {
        "id": "Z4lGJnGCCSpA"
      },
      "source": [
        "### The strong correlation between players' standard efficiency and draft pick number is seen as it is displayed on the graph. We understand as the standard efficiency of the players increase, the likelihood of them being in the first picks in the draft picks also increases."
      ]
    },
    {
      "cell_type": "markdown",
      "metadata": {
        "id": "LhITZ6WFY0Qz"
      },
      "source": [
        "### Random Forest\n"
      ]
    },
    {
      "cell_type": "code",
      "metadata": {
        "id": "XNEXrZ-MeP-C"
      },
      "source": [
        "from sklearn.model_selection import train_test_split\n",
        "from sklearn.ensemble import RandomForestRegressor\n",
        "from sklearn.metrics import accuracy_score"
      ],
      "execution_count": null,
      "outputs": []
    },
    {
      "cell_type": "code",
      "metadata": {
        "id": "PRrfnt28NFIJ"
      },
      "source": [
        "def findDraftValue_3Groups(row):\n",
        "  draft_pick = row[\"draft_pick\"]\n",
        "  if draft_pick >= 1 and draft_pick <= 10:\n",
        "    draft_value = 120\n",
        "  elif draft_pick >= 11 and draft_pick <= 20:\n",
        "    draft_value = 100\n",
        "  elif draft_pick >= 21 and draft_pick <= 30:\n",
        "    draft_value = 80\n",
        "  else:\n",
        "    print(\"Something Wrong!\")\n",
        "    draft_value = 0\n",
        "  return draft_value"
      ],
      "execution_count": null,
      "outputs": []
    },
    {
      "cell_type": "code",
      "metadata": {
        "colab": {
          "base_uri": "https://localhost:8080/",
          "height": 238
        },
        "id": "9sNXn5MNYz09",
        "outputId": "1271f814-54a8-479b-daa6-a60e3bde3b64"
      },
      "source": [
        "from sklearn.ensemble import RandomForestClassifier\n",
        "from sklearn.model_selection import train_test_split\n",
        "from sklearn.metrics import accuracy_score\n",
        "from sklearn.metrics import classification_report\n",
        "\n",
        "#stf, off, draft\n",
        "\n",
        "#df_ML[\"draft_value\"] = df_ML.apply(findDraftValue, axis = 1)\n",
        "\n",
        "#draft_pick 1 -- 30\n",
        "#off_eff  100 ---  10\n",
        "\n",
        "df_off_3_groups = df_ML.copy()\n",
        "df_off_3_groups[\"draft_value\"] = df_off_3_groups.apply(findDraftValue_3Groups, axis = 1)\n",
        "\n",
        "df_off_3_groups.drop(\"Player\", axis = 1, inplace = True)\n",
        "df_off_3_groups.drop(\"st_eff\", axis = 1, inplace = True)\n",
        "\n",
        "\n",
        "draft_datas = df_off_3_groups[\"draft_value\"] # target data\n",
        "offensive_datas = df_off_3_groups[\"off_eff\"] # other data\n",
        "\n",
        "offensive_datas = offensive_datas.values.reshape(-1, 1)\n",
        "\n",
        "# 80% for training and 20% for testing-validation\n",
        "offensive_train, offensive_remaining, draft_train, draft_remaining = train_test_split(offensive_datas, draft_datas, test_size = 0.2, random_state = 42)\n",
        "# 10% validation, 10% test\n",
        "offensive_test, offensive_validation, draft_test, draft_validation = train_test_split(offensive_remaining, draft_remaining, test_size = 0.5, random_state = 42) # 60\n",
        "\n",
        "\n",
        "rf_ML = RandomForestClassifier(n_estimators = 100, criterion = \"entropy\", random_state = 42)\n",
        "rf_ML.fit(offensive_train, draft_train)\n",
        "\n",
        "validation_predict = rf_ML.predict(offensive_validation)\n",
        "off_rf_3_groups_validation_acc = accuracy_score(draft_validation, validation_predict)\n",
        "#off_rf_validation_acc = 1 - off_rf_validation_acc\n",
        "#print(off_rf_ML.fit(offensive_train, draft_train)) # Debuging\n",
        "print()\n",
        "print(\"Offensive - Random Forest Classification Validation Accuracy:y:\" + str(off_rf_3_groups_validation_acc)) # Debuging\n",
        "#print(\"Percent: \" +str(off_rf_3_groups_validation_acc * 100))\n",
        "df_off_3_groups.head()"
      ],
      "execution_count": null,
      "outputs": [
        {
          "output_type": "stream",
          "text": [
            "\n",
            "Offensive - Random Forest Classification Validation Accuracy:y:0.41509433962264153\n"
          ],
          "name": "stdout"
        },
        {
          "output_type": "execute_result",
          "data": {
            "text/html": [
              "<div>\n",
              "<style scoped>\n",
              "    .dataframe tbody tr th:only-of-type {\n",
              "        vertical-align: middle;\n",
              "    }\n",
              "\n",
              "    .dataframe tbody tr th {\n",
              "        vertical-align: top;\n",
              "    }\n",
              "\n",
              "    .dataframe thead th {\n",
              "        text-align: right;\n",
              "    }\n",
              "</style>\n",
              "<table border=\"1\" class=\"dataframe\">\n",
              "  <thead>\n",
              "    <tr style=\"text-align: right;\">\n",
              "      <th></th>\n",
              "      <th>draft_pick</th>\n",
              "      <th>off_eff</th>\n",
              "      <th>draft_value</th>\n",
              "    </tr>\n",
              "  </thead>\n",
              "  <tbody>\n",
              "    <tr>\n",
              "      <th>11849</th>\n",
              "      <td>2.0</td>\n",
              "      <td>18.092941</td>\n",
              "      <td>120</td>\n",
              "    </tr>\n",
              "    <tr>\n",
              "      <th>11850</th>\n",
              "      <td>1.0</td>\n",
              "      <td>20.466414</td>\n",
              "      <td>120</td>\n",
              "    </tr>\n",
              "    <tr>\n",
              "      <th>11851</th>\n",
              "      <td>13.0</td>\n",
              "      <td>18.201949</td>\n",
              "      <td>100</td>\n",
              "    </tr>\n",
              "    <tr>\n",
              "      <th>11852</th>\n",
              "      <td>1.0</td>\n",
              "      <td>19.709821</td>\n",
              "      <td>120</td>\n",
              "    </tr>\n",
              "    <tr>\n",
              "      <th>11853</th>\n",
              "      <td>9.0</td>\n",
              "      <td>18.386169</td>\n",
              "      <td>120</td>\n",
              "    </tr>\n",
              "  </tbody>\n",
              "</table>\n",
              "</div>"
            ],
            "text/plain": [
              "       draft_pick    off_eff  draft_value\n",
              "11849         2.0  18.092941          120\n",
              "11850         1.0  20.466414          120\n",
              "11851        13.0  18.201949          100\n",
              "11852         1.0  19.709821          120\n",
              "11853         9.0  18.386169          120"
            ]
          },
          "metadata": {
            "tags": []
          },
          "execution_count": 18
        }
      ]
    },
    {
      "cell_type": "markdown",
      "metadata": {
        "id": "CzRNVocGPe7v"
      },
      "source": [
        "Firstly, we created proprtional relation between offensive efficiency and draft pick with using draft value values (offensive efficency - draft value). Then we used Random Forest Classifier in order to estimate statistics. We saw that machine's accuracy in the validation step is 0.41%."
      ]
    },
    {
      "cell_type": "code",
      "metadata": {
        "colab": {
          "base_uri": "https://localhost:8080/"
        },
        "id": "IiEgGtmQSSYq",
        "outputId": "604f1c4f-9d21-446f-aa25-f137a086fcb4"
      },
      "source": [
        "# Offensive Part\n",
        "preds_test = rf_ML.predict(offensive_test)\n",
        "accuracy_test = accuracy_score(draft_test, preds_test)\n",
        "#print(\"Random Forest Train Accuracy:\", rf_accuracy)\n",
        "print(\"Offensive - Random Forest Classification Test Accuracy:\", accuracy_test)"
      ],
      "execution_count": null,
      "outputs": [
        {
          "output_type": "stream",
          "text": [
            "Offensive - Random Forest Classification Test Accuracy: 0.4528301886792453\n"
          ],
          "name": "stdout"
        }
      ]
    },
    {
      "cell_type": "markdown",
      "metadata": {
        "id": "zBaqu5n1drCJ"
      },
      "source": [
        "We tested the machine and we sae that the accuracy of the machine is 45%. In this case, we may say that the predictabilty of the machine increases 4%."
      ]
    },
    {
      "cell_type": "code",
      "metadata": {
        "colab": {
          "base_uri": "https://localhost:8080/"
        },
        "id": "YmeUn4-veOz-",
        "outputId": "951b10c5-08ba-4b64-9df6-13f484f78ef9"
      },
      "source": [
        "# Offensive Part \n",
        "print(classification_report(draft_test, preds_test))"
      ],
      "execution_count": null,
      "outputs": [
        {
          "output_type": "stream",
          "text": [
            "              precision    recall  f1-score   support\n",
            "\n",
            "          80       0.11      0.12      0.12         8\n",
            "         100       0.40      0.40      0.40        15\n",
            "         120       0.59      0.57      0.58        30\n",
            "\n",
            "    accuracy                           0.45        53\n",
            "   macro avg       0.37      0.36      0.36        53\n",
            "weighted avg       0.46      0.45      0.46        53\n",
            "\n"
          ],
          "name": "stdout"
        }
      ]
    },
    {
      "cell_type": "markdown",
      "metadata": {
        "id": "SQQPbC8YeD0B"
      },
      "source": [
        "Precision — What percent of your predictions were correct?\n",
        "Precision is the ability of a classifier not to label an instance positive that is actually negative. For each class, it is defined as the ratio of true positives to the sum of a true positive and false positive.\n",
        "Precision:- Accuracy of positive predictions.\n",
        "\n",
        "precision:  TP/predicted yes\n",
        "recall: TP/actual yes\n",
        "\n",
        "Recall: When it's actually positive, how often does it predict positive?\n",
        "\n",
        "Precision: When it predicts positive, how often is it correct?\n",
        "\n",
        "F1-score: What percent of positive predictions were correct? \n",
        "\n",
        "For draft value 80, we saw that\n",
        "    * Precision: it found correct 11% of actual 80 values\n",
        "    * Recall: it predicts 12% positive among 80 values\n",
        "    * f1-score: %12 of positive predictions (which were %12) were correct\n",
        "\n",
        "\n",
        "For draft value 100, we saw that\n",
        "    * Precision: it found correct 40% of actual 100 values\n",
        "    * Recall: it predicts 40% positive among 100 values\n",
        "    * f1-score: %40 of positive predictions (which were %40) were correct\n",
        "\n",
        "    \n",
        "For draft value 120, we saw that\n",
        "    * Precision: it found correct 59% of actual 120 values\n",
        "    * Recall: it predicts 57% positive among 120 values\n",
        "    * f1-score: %58 of positive predictions (which were %57) were correct\n"
      ]
    },
    {
      "cell_type": "code",
      "metadata": {
        "id": "e3wkCCrYc2hP",
        "colab": {
          "base_uri": "https://localhost:8080/"
        },
        "outputId": "3c86e0bf-abb5-4d1b-ab10-d1c45f59333c"
      },
      "source": [
        "# Offensive Part\n",
        "from sklearn.model_selection import GridSearchCV\n",
        "from pprint import pprint\n",
        "\n",
        "n_estimators = [100, 200, 300]\n",
        "min_samples_split = [3, 5, 6, 10, 15]\n",
        "\n",
        "grid_parameter = {\"n_estimators\": n_estimators,\n",
        "               \"min_samples_split\": min_samples_split}\n",
        "\n",
        "#pprint(grid_search) # Debuging\n",
        "CV_rfc = GridSearchCV(estimator = rf_ML, param_grid = grid_parameter)\n",
        "CV_rfc.fit(offensive_train, draft_train)"
      ],
      "execution_count": null,
      "outputs": [
        {
          "output_type": "execute_result",
          "data": {
            "text/plain": [
              "GridSearchCV(cv=None, error_score=nan,\n",
              "             estimator=RandomForestClassifier(bootstrap=True, ccp_alpha=0.0,\n",
              "                                              class_weight=None,\n",
              "                                              criterion='entropy',\n",
              "                                              max_depth=None,\n",
              "                                              max_features='auto',\n",
              "                                              max_leaf_nodes=None,\n",
              "                                              max_samples=None,\n",
              "                                              min_impurity_decrease=0.0,\n",
              "                                              min_impurity_split=None,\n",
              "                                              min_samples_leaf=1,\n",
              "                                              min_samples_split=2,\n",
              "                                              min_weight_fraction_leaf=0.0,\n",
              "                                              n_estimators=100, n_jobs=None,\n",
              "                                              oob_score=False, random_state=42,\n",
              "                                              verbose=0, warm_start=False),\n",
              "             iid='deprecated', n_jobs=None,\n",
              "             param_grid={'min_samples_split': [3, 5, 6, 10, 15],\n",
              "                         'n_estimators': [100, 200, 300]},\n",
              "             pre_dispatch='2*n_jobs', refit=True, return_train_score=False,\n",
              "             scoring=None, verbose=0)"
            ]
          },
          "metadata": {
            "tags": []
          },
          "execution_count": 21
        }
      ]
    },
    {
      "cell_type": "code",
      "metadata": {
        "colab": {
          "base_uri": "https://localhost:8080/"
        },
        "id": "u9rLgLVbl9Ux",
        "outputId": "78d965f9-5f17-4f9c-bea2-5a6102657006"
      },
      "source": [
        "# Offensive Part\n",
        "# Displaying best hyperparameters\n",
        "CV_rfc.best_params_"
      ],
      "execution_count": null,
      "outputs": [
        {
          "output_type": "execute_result",
          "data": {
            "text/plain": [
              "{'min_samples_split': 15, 'n_estimators': 300}"
            ]
          },
          "metadata": {
            "tags": []
          },
          "execution_count": 22
        }
      ]
    },
    {
      "cell_type": "code",
      "metadata": {
        "colab": {
          "base_uri": "https://localhost:8080/"
        },
        "id": "gSjeGhdrmRzt",
        "outputId": "91bdf5da-9283-40c5-b4a7-0b3cc016d08b"
      },
      "source": [
        "# Offensive Part\n",
        "# Accuracy score with new hyperparameters\n",
        "grid_preds_validation = CV_rfc.predict(offensive_validation)\n",
        "CV_rfc_accuracy_validation = accuracy_score(draft_validation, grid_preds_validation)\n",
        "#print(\"Random Forest Train Accuracy:\", rf_accuracy)\n",
        "print(\"Offensive Grid Searched Random Forest Classification Validation Accuracy:\", CV_rfc_accuracy_validation)"
      ],
      "execution_count": null,
      "outputs": [
        {
          "output_type": "stream",
          "text": [
            "Offensive Grid Searched Random Forest Classification Validation Accuracy: 0.41509433962264153\n"
          ],
          "name": "stdout"
        }
      ]
    },
    {
      "cell_type": "code",
      "metadata": {
        "colab": {
          "base_uri": "https://localhost:8080/"
        },
        "id": "G63NprLNngJ_",
        "outputId": "49189e31-2c1d-4067-cdfc-183c704803c6"
      },
      "source": [
        "# Offensive Part\n",
        "grid_preds_test = CV_rfc.predict(offensive_test)\n",
        "CV_rfc_accuracy_test = accuracy_score(draft_test, grid_preds_test)\n",
        "#print(\"Random Forest Train Accuracy:\", rf_accuracy)\n",
        "print(\"Offensive Grid Searched Random Forest Classification Test Accuracy:\", CV_rfc_accuracy_test)"
      ],
      "execution_count": null,
      "outputs": [
        {
          "output_type": "stream",
          "text": [
            "Offensive Grid Searched Random Forest Classification Test Accuracy: 0.4716981132075472\n"
          ],
          "name": "stdout"
        }
      ]
    },
    {
      "cell_type": "code",
      "metadata": {
        "colab": {
          "base_uri": "https://localhost:8080/"
        },
        "id": "nFvD21WpedkL",
        "outputId": "0da138c3-7959-4d7d-b2dd-03abc51461f9"
      },
      "source": [
        "# Classification Report- Offensive Part Grid Search\n",
        "print(classification_report(draft_test, grid_preds_test))"
      ],
      "execution_count": null,
      "outputs": [
        {
          "output_type": "stream",
          "text": [
            "              precision    recall  f1-score   support\n",
            "\n",
            "          80       0.33      0.12      0.18         8\n",
            "         100       0.23      0.20      0.21        15\n",
            "         120       0.57      0.70      0.63        30\n",
            "\n",
            "    accuracy                           0.47        53\n",
            "   macro avg       0.38      0.34      0.34        53\n",
            "weighted avg       0.44      0.47      0.44        53\n",
            "\n"
          ],
          "name": "stdout"
        }
      ]
    },
    {
      "cell_type": "code",
      "metadata": {
        "id": "9nc1K6nXdBx2",
        "colab": {
          "base_uri": "https://localhost:8080/",
          "height": 393
        },
        "outputId": "e6a15653-ebd4-47de-96a7-3a8c6aa12d5d"
      },
      "source": [
        "# Standard Part\n",
        "df_stf_3_groups = df_ML.copy()\n",
        "\n",
        "df_stf_3_groups[\"draft_value\"] = df_stf_3_groups.apply(findDraftValue_3Groups, axis = 1)\n",
        "\n",
        "df_stf_3_groups.drop(\"Player\", axis = 1, inplace=True)\n",
        "df_stf_3_groups.drop(\"off_eff\", axis = 1, inplace=True)\n",
        "\n",
        "\n",
        "draft_datas = df_stf_3_groups['draft_value'] # y\n",
        "standard_datas = df_stf_3_groups['st_eff'] # x\n",
        "\n",
        "standard_datas = standard_datas.values.reshape(-1, 1)\n",
        "\n",
        "# 80% for training and 20% for testing-validation\n",
        "standard_train, standard_remaining, draft_train, draft_remaining = train_test_split(standard_datas, draft_datas, test_size = 0.2, random_state = 60)\n",
        "# 10% validation, 10% test\n",
        "standard_test, standard_validation, draft_test, draft_validation = train_test_split(standard_remaining, draft_remaining, test_size = 0.5, random_state = 60)\n",
        "\n",
        "\n",
        "rf_ML = RandomForestClassifier(n_estimators = 100, criterion = \"entropy\", random_state = 60)\n",
        "\n",
        "rf_ML.fit(standard_train, draft_train)\n",
        "\n",
        "validation_predict = rf_ML.predict(standard_validation)\n",
        "stf_rf_3_groups_validation_acc = accuracy_score(draft_validation, validation_predict)\n",
        "#rf_validation_acc = 1- rf_validation_acc\n",
        "#print(rf_ML.fit(standard_train, draft_train)) # Debuging\n",
        "print()\n",
        "print(\"Standard - Random Forest Classification Validation Accuracy::\" + str(stf_rf_3_groups_validation_acc)) # Debuging\n",
        "#print(\"Percent: \"+str(stf_rf_3_groups_validation_acc *100))\n",
        "df_stf_3_groups.head(10)"
      ],
      "execution_count": null,
      "outputs": [
        {
          "output_type": "stream",
          "text": [
            "\n",
            "Standard - Random Forest Classification Validation Accuracy::0.39622641509433965\n"
          ],
          "name": "stdout"
        },
        {
          "output_type": "execute_result",
          "data": {
            "text/html": [
              "<div>\n",
              "<style scoped>\n",
              "    .dataframe tbody tr th:only-of-type {\n",
              "        vertical-align: middle;\n",
              "    }\n",
              "\n",
              "    .dataframe tbody tr th {\n",
              "        vertical-align: top;\n",
              "    }\n",
              "\n",
              "    .dataframe thead th {\n",
              "        text-align: right;\n",
              "    }\n",
              "</style>\n",
              "<table border=\"1\" class=\"dataframe\">\n",
              "  <thead>\n",
              "    <tr style=\"text-align: right;\">\n",
              "      <th></th>\n",
              "      <th>draft_pick</th>\n",
              "      <th>st_eff</th>\n",
              "      <th>draft_value</th>\n",
              "    </tr>\n",
              "  </thead>\n",
              "  <tbody>\n",
              "    <tr>\n",
              "      <th>11849</th>\n",
              "      <td>2.0</td>\n",
              "      <td>24.948718</td>\n",
              "      <td>120</td>\n",
              "    </tr>\n",
              "    <tr>\n",
              "      <th>11850</th>\n",
              "      <td>1.0</td>\n",
              "      <td>28.594937</td>\n",
              "      <td>120</td>\n",
              "    </tr>\n",
              "    <tr>\n",
              "      <th>11851</th>\n",
              "      <td>13.0</td>\n",
              "      <td>21.390244</td>\n",
              "      <td>100</td>\n",
              "    </tr>\n",
              "    <tr>\n",
              "      <th>11852</th>\n",
              "      <td>1.0</td>\n",
              "      <td>23.111111</td>\n",
              "      <td>120</td>\n",
              "    </tr>\n",
              "    <tr>\n",
              "      <th>11853</th>\n",
              "      <td>9.0</td>\n",
              "      <td>24.589744</td>\n",
              "      <td>120</td>\n",
              "    </tr>\n",
              "    <tr>\n",
              "      <th>11854</th>\n",
              "      <td>3.0</td>\n",
              "      <td>22.662338</td>\n",
              "      <td>120</td>\n",
              "    </tr>\n",
              "    <tr>\n",
              "      <th>11855</th>\n",
              "      <td>5.0</td>\n",
              "      <td>24.763158</td>\n",
              "      <td>120</td>\n",
              "    </tr>\n",
              "    <tr>\n",
              "      <th>11856</th>\n",
              "      <td>10.0</td>\n",
              "      <td>20.287500</td>\n",
              "      <td>120</td>\n",
              "    </tr>\n",
              "    <tr>\n",
              "      <th>11857</th>\n",
              "      <td>26.0</td>\n",
              "      <td>18.175000</td>\n",
              "      <td>80</td>\n",
              "    </tr>\n",
              "    <tr>\n",
              "      <th>11858</th>\n",
              "      <td>1.0</td>\n",
              "      <td>25.634146</td>\n",
              "      <td>120</td>\n",
              "    </tr>\n",
              "  </tbody>\n",
              "</table>\n",
              "</div>"
            ],
            "text/plain": [
              "       draft_pick     st_eff  draft_value\n",
              "11849         2.0  24.948718          120\n",
              "11850         1.0  28.594937          120\n",
              "11851        13.0  21.390244          100\n",
              "11852         1.0  23.111111          120\n",
              "11853         9.0  24.589744          120\n",
              "11854         3.0  22.662338          120\n",
              "11855         5.0  24.763158          120\n",
              "11856        10.0  20.287500          120\n",
              "11857        26.0  18.175000           80\n",
              "11858         1.0  25.634146          120"
            ]
          },
          "metadata": {
            "tags": []
          },
          "execution_count": 26
        }
      ]
    },
    {
      "cell_type": "code",
      "metadata": {
        "colab": {
          "base_uri": "https://localhost:8080/"
        },
        "id": "UYqbQ3BwTdXI",
        "outputId": "b9f34621-05a9-40b1-c3e4-b15acd4ba574"
      },
      "source": [
        "# Standard Part\n",
        "preds_test = rf_ML.predict(standard_test)\n",
        "accuracy_test = accuracy_score(draft_test, preds_test)\n",
        "#print(\"Random Forest Train Accuracy:\", rf_accuracy)\n",
        "print(\"Standard - Random Forest Classification Test Accuracy:\", accuracy_test)"
      ],
      "execution_count": null,
      "outputs": [
        {
          "output_type": "stream",
          "text": [
            "Standard - Random Forest Classification Test Accuracy: 0.3584905660377358\n"
          ],
          "name": "stdout"
        }
      ]
    },
    {
      "cell_type": "code",
      "metadata": {
        "colab": {
          "base_uri": "https://localhost:8080/"
        },
        "id": "gPJmaBUteDT8",
        "outputId": "8d59ec73-f508-4ddd-f875-19710bddc1e1"
      },
      "source": [
        "# Classification Report - Standard Part\n",
        "print(classification_report(draft_test, preds_test))"
      ],
      "execution_count": null,
      "outputs": [
        {
          "output_type": "stream",
          "text": [
            "              precision    recall  f1-score   support\n",
            "\n",
            "          80       0.00      0.00      0.00        10\n",
            "         100       0.38      0.33      0.35        18\n",
            "         120       0.45      0.52      0.48        25\n",
            "\n",
            "    accuracy                           0.36        53\n",
            "   macro avg       0.27      0.28      0.28        53\n",
            "weighted avg       0.34      0.36      0.35        53\n",
            "\n"
          ],
          "name": "stdout"
        }
      ]
    },
    {
      "cell_type": "code",
      "metadata": {
        "colab": {
          "base_uri": "https://localhost:8080/"
        },
        "id": "AZbQt1U8oYyS",
        "outputId": "d677dfec-0bee-412f-b7c8-7d71b62416b9"
      },
      "source": [
        "# Standard Part\n",
        "n_estimators = [100, 200, 300]\n",
        "min_samples_split = [3, 5, 6, 10, 15]\n",
        "\n",
        "grid_parameter = {\"n_estimators\": n_estimators,\n",
        "               \"min_samples_split\": min_samples_split}\n",
        "\n",
        "#pprint(grid_search) # Debuging\n",
        "CV_rfc = GridSearchCV(estimator = rf_ML, param_grid = grid_parameter)\n",
        "CV_rfc.fit(standard_train, draft_train)"
      ],
      "execution_count": null,
      "outputs": [
        {
          "output_type": "execute_result",
          "data": {
            "text/plain": [
              "GridSearchCV(cv=None, error_score=nan,\n",
              "             estimator=RandomForestClassifier(bootstrap=True, ccp_alpha=0.0,\n",
              "                                              class_weight=None,\n",
              "                                              criterion='entropy',\n",
              "                                              max_depth=None,\n",
              "                                              max_features='auto',\n",
              "                                              max_leaf_nodes=None,\n",
              "                                              max_samples=None,\n",
              "                                              min_impurity_decrease=0.0,\n",
              "                                              min_impurity_split=None,\n",
              "                                              min_samples_leaf=1,\n",
              "                                              min_samples_split=2,\n",
              "                                              min_weight_fraction_leaf=0.0,\n",
              "                                              n_estimators=100, n_jobs=None,\n",
              "                                              oob_score=False, random_state=60,\n",
              "                                              verbose=0, warm_start=False),\n",
              "             iid='deprecated', n_jobs=None,\n",
              "             param_grid={'min_samples_split': [3, 5, 6, 10, 15],\n",
              "                         'n_estimators': [100, 200, 300]},\n",
              "             pre_dispatch='2*n_jobs', refit=True, return_train_score=False,\n",
              "             scoring=None, verbose=0)"
            ]
          },
          "metadata": {
            "tags": []
          },
          "execution_count": 29
        }
      ]
    },
    {
      "cell_type": "code",
      "metadata": {
        "colab": {
          "base_uri": "https://localhost:8080/"
        },
        "id": "bKWAuG4loz5k",
        "outputId": "a404777e-327d-408a-a830-6431c90621ae"
      },
      "source": [
        "# Standard Part\n",
        "# Displaying best hyperparameters\n",
        "CV_rfc.best_params_"
      ],
      "execution_count": null,
      "outputs": [
        {
          "output_type": "execute_result",
          "data": {
            "text/plain": [
              "{'min_samples_split': 15, 'n_estimators': 200}"
            ]
          },
          "metadata": {
            "tags": []
          },
          "execution_count": 30
        }
      ]
    },
    {
      "cell_type": "code",
      "metadata": {
        "colab": {
          "base_uri": "https://localhost:8080/"
        },
        "id": "RJ-rluDtpGjR",
        "outputId": "133824ef-7709-4c05-ea33-343591d203e0"
      },
      "source": [
        "# Standard Part\n",
        "# Accuracy score with new hyperparameters\n",
        "grid_preds_validation = CV_rfc.predict(standard_validation)\n",
        "CV_rfc_accuracy_validation = accuracy_score(draft_validation, grid_preds_validation)\n",
        "#print(\"Random Forest Train Accuracy:\", rf_accuracy)\n",
        "print(\"Standard - Grid Searched Random Forest Classification Validation Accuracy:\", CV_rfc_accuracy_validation)"
      ],
      "execution_count": null,
      "outputs": [
        {
          "output_type": "stream",
          "text": [
            "Standard - Grid Searched Random Forest Classification Validation Accuracy: 0.3018867924528302\n"
          ],
          "name": "stdout"
        }
      ]
    },
    {
      "cell_type": "code",
      "metadata": {
        "colab": {
          "base_uri": "https://localhost:8080/"
        },
        "id": "hHIX7Z3wpNAE",
        "outputId": "2c4c87b8-6f92-415a-a630-7313d2dc9f61"
      },
      "source": [
        "# Standard Part\n",
        "grid_preds_test = CV_rfc.predict(standard_test)\n",
        "CV_rfc_accuracy_test = accuracy_score(draft_test, grid_preds_test)\n",
        "#print(\"Random Forest Train Accuracy:\", rf_accuracy)\n",
        "print(\"Standard - Grid Searched Random Forest Classification Test Accuracy:\", CV_rfc_accuracy_test)"
      ],
      "execution_count": null,
      "outputs": [
        {
          "output_type": "stream",
          "text": [
            "Standard - Grid Searched Random Forest Classification Test Accuracy: 0.41509433962264153\n"
          ],
          "name": "stdout"
        }
      ]
    },
    {
      "cell_type": "code",
      "metadata": {
        "colab": {
          "base_uri": "https://localhost:8080/"
        },
        "id": "9Z8Nf4UjdLFO",
        "outputId": "1ce95c81-f9ff-449d-ed7b-3389d0e751bc"
      },
      "source": [
        "# Classification Report - Standard Part Grid Search\n",
        "print(classification_report(draft_test, grid_preds_test))"
      ],
      "execution_count": null,
      "outputs": [
        {
          "output_type": "stream",
          "text": [
            "              precision    recall  f1-score   support\n",
            "\n",
            "          80       0.00      0.00      0.00        10\n",
            "         100       0.50      0.33      0.40        18\n",
            "         120       0.44      0.64      0.52        25\n",
            "\n",
            "    accuracy                           0.42        53\n",
            "   macro avg       0.31      0.32      0.31        53\n",
            "weighted avg       0.38      0.42      0.38        53\n",
            "\n"
          ],
          "name": "stdout"
        }
      ]
    },
    {
      "cell_type": "code",
      "metadata": {
        "colab": {
          "base_uri": "https://localhost:8080/",
          "height": 607
        },
        "id": "03AQVtTDWSyw",
        "outputId": "0ed28026-e70e-4064-eade-9816d0a86264"
      },
      "source": [
        "#Random Forest Regressor Modeli.\n",
        "\n",
        "#Offensive Efficiency: \n",
        "df_regressor_off = df_ML.copy()\n",
        "df_regressor_off.drop(\"Player\", axis = 1, inplace = True)\n",
        "df_regressor_off.drop(\"st_eff\", axis = 1, inplace = True)\n",
        "\n",
        "draft_regressor_off = df_regressor_off[\"draft_pick\"]\n",
        "offensive_regressor = df_regressor_off[\"off_eff\"]\n",
        "\n",
        "regressor_train, regressor_test, regressor_draft_train, regressor_draft_test = train_test_split(offensive_regressor, draft_regressor_off, test_size = 0.2)\n",
        "\n",
        "regressor = RandomForestRegressor(n_estimators = 100, random_state = 10 )\n",
        "regressor.fit(regressor_train.values.reshape(-1,1), regressor_draft_train.values.ravel())\n",
        "\n",
        "Prediction = regressor.predict(regressor_test.values.reshape(-1,1))\n",
        "\n",
        "#df_regressor_off = pd.DataFrame({'Real Values':regressor_draft_test.ravel(), 'Predicted Values':Prediction.ravel()}) Gerçek ve tahmin edilen değerleri dataframe haline getiriyor.\n",
        "\n",
        "\n",
        "\n",
        "X_grid = np.arange(min(X),max(X),0.01)\n",
        "X_grid = X_grid.reshape((len(X_grid),1))\n",
        "plt.scatter(regressor_test, regressor_draft_test, color = 'red')\n",
        "plt.scatter(regressor_test, Prediction, color = 'green')\n",
        "\n",
        "print(\"For Offensive Efficiency: \")\n",
        "plt.title('Random Forest Regression')\n",
        "plt.xlabel('Offensive Efficiency')\n",
        "plt.ylabel('Draft Pick')\n",
        "plt.gca().invert_yaxis()\n",
        "plt.show()\n",
        "\n",
        "plt.plot(X_grid, regressor.predict(X_grid), color = 'black')\n",
        "plt.title('Random Forest Regression')\n",
        "plt.xlabel('Offensive Efficiency')\n",
        "plt.ylabel('Draft Pick')\n",
        "plt.gca().invert_yaxis()\n",
        "plt.show()\n",
        "\n",
        "accuracy_regression_off = regressor.score(regressor_test.values.reshape(-1,1), regressor_draft_test.values.reshape(-1,1)) * -1\n",
        "print(\"Accuracy of The Random Forest Regression Model for offensive efficiency is: \", accuracy_regression_off)"
      ],
      "execution_count": null,
      "outputs": [
        {
          "output_type": "stream",
          "text": [
            "For Offensive Efficiency: \n"
          ],
          "name": "stdout"
        },
        {
          "output_type": "display_data",
          "data": {
            "image/png": "[encoded data removed]",
            "text/plain": [
              "<Figure size 432x288 with 1 Axes>"
            ]
          },
          "metadata": {
            "tags": [],
            "needs_background": "light"
          }
        },
        {
          "output_type": "display_data",
          "data": {
            "image/png": "[encoded data removed]",
            "text/plain": [
              "<Figure size 432x288 with 1 Axes>"
            ]
          },
          "metadata": {
            "tags": [],
            "needs_background": "light"
          }
        },
        {
          "output_type": "stream",
          "text": [
            "Accuracy of The Random Forest Regression Model for offensive efficiency is:  0.35578863866782245\n"
          ],
          "name": "stdout"
        }
      ]
    },
    {
      "cell_type": "markdown",
      "metadata": {
        "id": "syFA3scOSaaI"
      },
      "source": [
        "The Random Forest Regression Model is much more beneficial for the project as seen in the graph, ***the predicted values(green)*** and ***the actual values(red)*** are so close to each other except the extreme points of the graph where the values are closer to the edges. The accuracy of the machine learning model for offensive efficiency is a much more better result compared to the previous machine learning models."
      ]
    },
    {
      "cell_type": "code",
      "metadata": {
        "colab": {
          "base_uri": "https://localhost:8080/",
          "height": 607
        },
        "id": "pxzc9oyo3Q9v",
        "outputId": "ba9d70f4-4334-4714-b0c0-251de30f0484"
      },
      "source": [
        "#Random Forest Regressor Modeli.\n",
        "\n",
        "#Standard Efficiency:\n",
        "df_regressor_stf = df_ML.copy()\n",
        "df_regressor_stf.drop(\"Player\", axis = 1, inplace = True)\n",
        "df_regressor_stf.drop(\"off_eff\", axis = 1, inplace = True)\n",
        "\n",
        "draft_regressor_stf = df_regressor_stf[\"draft_pick\"]\n",
        "standard_regressor = df_regressor_stf[\"st_eff\"]\n",
        "\n",
        "standard_train, standard_test, draft_train, draft_test = train_test_split(standard_regressor, draft_regressor_stf, test_size = 0.2)\n",
        "\n",
        "regressor_st = RandomForestRegressor(n_estimators = 100, random_state = 10 )\n",
        "regressor_st.fit(standard_train.values.reshape(-1,1), draft_train.values.ravel())\n",
        "\n",
        "standard_prediction = regressor_st.predict(standard_test.values.reshape(-1,1))\n",
        "\n",
        "X_grid = np.arange(min(X),max(X),0.01)\n",
        "X_grid = X_grid.reshape((len(X_grid),1))\n",
        "plt.scatter(standard_test, draft_test, color = 'blue')\n",
        "plt.scatter(standard_test, standard_prediction, color = 'orange')\n",
        "\n",
        "print(\"For Standard Efficiency: \")\n",
        "plt.title('Random Forest Regression')\n",
        "plt.xlabel('Standard Efficiency')\n",
        "plt.ylabel('Draft Pick')\n",
        "plt.gca().invert_yaxis()\n",
        "plt.show()\n",
        "\n",
        "plt.plot(X_grid, regressor_st.predict(X_grid), color = 'black')\n",
        "plt.title('Random Forest Regression')\n",
        "plt.xlabel('Standard Efficiency')\n",
        "plt.ylabel('Draft Pick')\n",
        "plt.gca().invert_yaxis()\n",
        "plt.show()\n",
        "\n",
        "accuracy_regression_st = regressor_st.score(standard_test.values.reshape(-1,1), draft_test.values.reshape(-1,1)) * -1\n",
        "print(\"Accuracy of The Random Forest Regression Model for Standard Efficiency is: \", accuracy_regression_st)"
      ],
      "execution_count": null,
      "outputs": [
        {
          "output_type": "stream",
          "text": [
            "For Standard Efficiency: \n"
          ],
          "name": "stdout"
        },
        {
          "output_type": "display_data",
          "data": {
            "image/png": "[encoded data removed]",
            "text/plain": [
              "<Figure size 432x288 with 1 Axes>"
            ]
          },
          "metadata": {
            "tags": [],
            "needs_background": "light"
          }
        },
        {
          "output_type": "display_data",
          "data": {
            "image/png": "[encoded data removed]",
            "text/plain": [
              "<Figure size 432x288 with 1 Axes>"
            ]
          },
          "metadata": {
            "tags": [],
            "needs_background": "light"
          }
        },
        {
          "output_type": "stream",
          "text": [
            "Accuracy of The Random Forest Regression Model for Standard Efficiency is:  0.5568835985715599\n"
          ],
          "name": "stdout"
        }
      ]
    },
    {
      "cell_type": "markdown",
      "metadata": {
        "id": "6TL0Xh-baxoF"
      },
      "source": [
        "As proved in the above graph the Random Forest Regression Model is much more succesful compared to the other machine learning models. The accuracy of the model shows how the machine learning model is the best option so far and also it proves Standard Efficiency is a much more important feature for the Draft Picks. In the graph ***predicted values(orange)*** and ***the real values(blue)*** are much more closer to the any other method we have previously used and ***it proves that the Standard Efficiency is the feature which can be used to predict a player's draft pick number.*** "
      ]
    },
    {
      "cell_type": "markdown",
      "metadata": {
        "id": "l4MtFOqW4jdQ"
      },
      "source": [
        "### Results & Discussion\n",
        "\n",
        "<font color=\"blue\">\n",
        "Display and discuss the results of your models. Deploy tables, figures etc. to present your results. Discuss the advantages/disadvantages of models compared to each other.\n",
        "</font>\n",
        "\n",
        "We used offensive efficiency and standart efficiency traits as variables to create our problem and find a solution to it because of that those two traits are the most efficient features to see a players performance during season. Standart efficiency gives us a general information about a players performance in the season and offensive efficiency is giving us generally about the offensive features of a player, we compared those two traits because if a players offensive features are more effective this can make him more visible but it does not give us a general information about the player, so we decided to see if the general quality is more effective to be choosen to draft or a players all features are important to be picked to draft. These features are effective in predicting the draft pick of a player because they provide us general information about the performance of a player throughout the season. In order to observe the data clearly and see the correlation between features noticeably we used the linear regression method which gave us the coefficients for the correlation between draft pick and standard/offensive efficiencies. After we apply linear regression, this let us to see the correlation between different traits firstly the standart efficiency scatter plot shows us that standart efficiency has a stronger correlation compared with the draft picks compared to the offensive efficiency, and linear regression model is successful to indicate the relation between these variables. \n",
        "We used Random Forest Classification, because we wanted to observe the relations between each 10 pick. In this case we created 3 classes. However, the accuracies (both offensive and standard) of the model is low. It is because, we observed that some draft picks which are too close, but the efficiency value of the lower pick (draft pick is higher) is more than the efficiency value of the higher pick (draft pick is lower). Since the classes of these are different and the number of this cases is not few the hierarchy would not be satisfied. Hence, accuracy values in the Random Forest Classification are turned out be low.\n",
        "Random Forest Regression proved to be the most succesful machine learning method in terms of both giving a better accuracy and by also visualising how predicted values are close to the real values. By using the Random Forest Regression method for both offensive and standard efficiency, we prove that standard efficiency is a much more important feature for the draft picks. As the result, we acknowledge that the Random Forest Regression machine learning model was the most fitting method, as it provided much better accuracy and overall visualization for the problem."
      ]
    },
    {
      "cell_type": "markdown",
      "metadata": {
        "id": "L8mRHzGc4SH0"
      },
      "source": [
        "## Conclusion\n",
        "\n",
        "<font color=\"blue\">\n",
        "Briefly evaluate your project. Is your solution applicable? What are the advantages/disadvantages of your solution?\n",
        "</font>\n",
        "\n",
        "We first had a dataset of basketball players of all leauges and seasons. We wanted to discuss whether the draft picks of only NBA players were made with the expactation of players with generally standard efficiency or highly offensive efficiency. By utilizing the data and visualizing many graphs we made clear the distinction between features. After data utilization and linear regression, we witnessed a higher level of correlation between standard efficiency and draft picks compared to the offensive efficiency and draft picks. Our solution gave us more detailed research for our problem but it does not give us a strong correlation in order to evaluate the relationship between offensive/standart efficiency traits and drafts of the players. \n",
        "\n",
        "Advantages of using Random Forest Classification is that it allowed us to see the relationship between each instances, for each class more accurately. Disadvantage of it is that first we can't see the relation of whole instances generally, because we divided the instances into classes.\n",
        "\n",
        "Advantages of using random forest regression is that it enables us to clearly see the correlation between the efficiencies(offensive and standart) and the draft pick so it can be said that random forest regression model is the advanced machine learning model for our project. Disadvantage of using this machine learning model is that while calculating accuracy it overlooks the extreme points which are located secludedly in the graph.\n",
        "\n",
        "As an answer to our project question, our various models and the graphs we concluded that standart efficiency is a much more important feature to pick a player to draft compared to offensive efficiency.\n",
        "\n",
        "\n"
      ]
    },
    {
      "cell_type": "markdown",
      "metadata": {
        "id": "8h0G5RNzuABB"
      },
      "source": [
        "## Future Work\n",
        "\n",
        "<font color=\"blue\">\n",
        "In the progress report, clearly state your goals for the final report.<br>\n",
        "In the final report, articulate on the future directions, scenarios.\n",
        "</font>\n",
        "\n",
        "We learned a lot by using these machine learning models but instead of choosing overall efficiencies choosing the all the attributes seperatly to have more accurate results on the way solving our problem question.\n",
        "\n"
      ]
    },
    {
      "cell_type": "markdown",
      "metadata": {
        "id": "aw-zON5bt0pd"
      },
      "source": [
        "## Work Division\n",
        "\n",
        "<font color=\"blue\">\n",
        "\n",
        "A clear description of the division of work among teammates.\n",
        "</font>\n",
        "\n",
        "Berke, Deniz, Ercan and Berkay first discussed how to make progress in the project and how can we utilize the dataset to give an answer to our question/problem. After that Ercan and Berke utilized the dataset in the implementation part and made it usable for the rest of the project and Berkay displayed the graphs of the utilized data. Berke, Ercan and Berkay all worked together on data exploration in order to solve the problem we extracted the features from both data sets and connected them for exploration of data and created a new data frame and displayed the graphs for this new data frame and the relationships of features with each other. Firstly Deniz, Berkay, Ercan and Berke discussed about which machine learning model is more useful and beneficial for the project. After that, Berke and Ercan utilized the dataframe in order to use it in the Linear Regression model. Berkay implemented the linear regression and displayed the graphs for the visualization part and also Deniz helped with the graphs. We all worked together on the machine learning models which are random forest classification and random forest regression. Ercan and Berkay visiualized the graphs and Ercan, Berkay, Berke, Deniz evaluated the results.\n",
        "\n",
        "*** We also thank Rana KALKAN for helping us throughout our project.***"
      ]
    }
  ]
}